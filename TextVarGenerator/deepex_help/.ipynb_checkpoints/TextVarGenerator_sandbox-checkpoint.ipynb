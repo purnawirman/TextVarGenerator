{
 "cells": [
  {
   "cell_type": "code",
   "execution_count": 1,
   "metadata": {
    "collapsed": false
   },
   "outputs": [],
   "source": [
    "import os\n",
    "import re\n",
    "import random \n",
    "import string\n",
    "import matplotlib\n",
    "import matplotlib.pyplot as plt\n",
    "%matplotlib inline\n",
    "\n",
    "# import seaborn as sns\n",
    "# sns.set_context(\"talk\")\n",
    "# sns.set_style(\"white\")"
   ]
  },
  {
   "cell_type": "code",
   "execution_count": null,
   "metadata": {
    "collapsed": true
   },
   "outputs": [],
   "source": []
  },
  {
   "cell_type": "code",
   "execution_count": 200,
   "metadata": {
    "collapsed": false
   },
   "outputs": [],
   "source": [
    "class EditText(object):\n",
    "    def __init__(self, inputText):\n",
    "        self.text = inputText\n",
    "        self.text = re.sub(\"  \", \" \", self.text).strip()\n",
    "        self.characters = []\n",
    "        self.words = [] \n",
    "        self.sentences = []\n",
    "        self.paragraphs = []\n",
    "        \n",
    "    def getText(self):\n",
    "        return self.text\n",
    "    \n",
    "    def getCleanText(self):\n",
    "        return string.join((re.split(\"\"+ \"PPPPPPPPPPPPPPPPPPPP|CCCCCCCCCCCCCCCCCCCC\"+ \"\", self.text)), \"\")\n",
    "    \n",
    "    def _getChars(self):\n",
    "        cleanText = (re.split(\"(\"+ \"PPPPPPPPPPPPPPPPPPPP|CCCCCCCCCCCCCCCCCCCC\"+ \")\", self.text))\n",
    "        self.characters = []\n",
    "        for x in cleanText:\n",
    "            if x == \"P\"*20 or x == \"C\"*20:\n",
    "                self.characters.append(x)\n",
    "            else:\n",
    "                self.characters.extend(list(x))\n",
    "        return self.characters\n",
    "                \n",
    "    def _getWords(self):\n",
    "        cleanText = (re.split(\"(\"+ \"PPPPPPPPPPPPPPPPPPPP|CCCCCCCCCCCCCCCCCCCC\"+ \")\", self.text))\n",
    "        self.words = []\n",
    "        for x in cleanText:\n",
    "            if x == \"P\"*20 or x == \"C\"*20:\n",
    "                self.words.append(x)\n",
    "            else:\n",
    "                self.words.extend(re.split(\"\\s\", x))\n",
    "        return self.words\n",
    "\n",
    "    def _getSentences(self):\n",
    "        cleanText = (re.split(\"(\"+ \"PPPPPPPPPPPPPPPPPPPP|CCCCCCCCCCCCCCCCCCCC\"+ \")\", self.text))\n",
    "        self.sentences = []\n",
    "        for x in cleanText:\n",
    "            if x == \"P\"*20 or x == \"C\"*20:\n",
    "                self.sentences.append(x)\n",
    "            elif len(x)==0 or x == \".\" or x == \" \":\n",
    "                continue\n",
    "            else:\n",
    "                for unit in re.split(\"[.!?]\", x):\n",
    "                    if len(unit) != 0 and unit != \".\" and unit!= \" \":\n",
    "                        self.sentences.append(unit)\n",
    "        if self.sentences[-1] != \"C\" * 20 and self.sentences[-1] != \"P\" * 20:\n",
    "            self.sentences.append(\"CCCCCCCCCCCCCCCCCCCC\")\n",
    "        return self.sentences\n",
    "        \n",
    "    def _addChar(self, idx, param):\n",
    "        self._getChars()\n",
    "        self.characters.insert(idx, param)\n",
    "        self.text = string.join(self.characters,\"\")\n",
    "        self.text = re.sub(\" +\", \" \", self.text)\n",
    "        \n",
    "    def _remChar(self, idx):\n",
    "        self._getChars()\n",
    "        self.characters.pop(idx)\n",
    "        self.text = string.join(self.characters,\"\")\n",
    "        self.text = re.sub(\" +\", \" \", self.text)\n",
    "    \n",
    "    def _swapChar(self, idx1, idx2):\n",
    "        self._getChars()\n",
    "        tmp = self.characters.pop(idx1)\n",
    "        self.characters.insert(idx2-1, tmp)\n",
    "        tmp = self.characters.pop(idx2)\n",
    "        self.characters.insert(idx1, tmp)\n",
    "        self.text = string.join(self.characters,\"\")\n",
    "        self.text = re.sub(\" +\", \" \", self.text)\n",
    "    \n",
    "    def _addWord(self, idx, param):\n",
    "        self._getWords()\n",
    "        self.words.insert(idx, \" \" + param)\n",
    "        self.text = string.join(self.words,\" \")\n",
    "        self.text = re.sub(\" +\", \" \", self.text)\n",
    "        \n",
    "    def _remWord(self, idx):\n",
    "        self._getWords()\n",
    "        self.words.pop(idx)\n",
    "        self.text = string.join(self.words,\" \")\n",
    "        self.text = re.sub(\" +\", \" \", self.text)\n",
    "    \n",
    "    def _swapWord(self, idx1, idx2):\n",
    "        self._getWords()\n",
    "        tmp = self.words.pop(idx1)\n",
    "        self.words.insert(idx2-1, tmp)\n",
    "        tmp = self.words.pop(idx2)\n",
    "        self.words.insert(idx1, tmp)\n",
    "        self.text = string.join(self.words,\" \")\n",
    "        self.text = re.sub(\" +\", \" \", self.text)\n",
    "        \n",
    "    def _addSentence(self, idx, param):\n",
    "        self._getSentences()\n",
    "        self.sentences.insert(idx, param)\n",
    "        self.text = string.join(self.sentences, \".\")\n",
    "        self.text = re.sub(\" +\", \" \", self.text)\n",
    "        \n",
    "    def _remSentence(self, idx):\n",
    "        self._getSentences()\n",
    "        self.sentences.pop(idx)\n",
    "        self.text = string.join(self.sentences,\".\")\n",
    "        self.text = re.sub(\" +\", \" \", self.text)\n",
    "    \n",
    "    def _swapSentence(self, idx1, idx2):\n",
    "        self._getSentences()\n",
    "        tmp = self.sentences.pop(idx1)\n",
    "        self.sentences.insert(idx2-1, tmp)\n",
    "        tmp = self.sentences.pop(idx2)\n",
    "        self.sentences.insert(idx1, tmp)\n",
    "        self.text = string.join(self.sentences,\".\")\n",
    "        self.text = re.sub(\" +\", \" \", self.text)\n",
    "        \n",
    "    def getCorruptSentence(self, factor):\n",
    "        copyInput = EditText(self.getText())\n",
    "        maxLength = len(copyInput._getSentences())\n",
    "        for i in range(int(factor * maxLength)):\n",
    "            maxLength = len(copyInput._getSentences())\n",
    "            idx1 = random.randint(0, maxLength-1)\n",
    "            idx2 = random.randint(0, maxLength-1)\n",
    "            copyInput._swapSentence(idx1, idx2)\n",
    "        return copyInput\n",
    "    \n",
    "    def getCorruptChar(self, factor):\n",
    "        copyInput = EditText(self.getText())\n",
    "        maxLength = len(copyInput._getChars())\n",
    "        for i in range(int(factor * maxLength)):\n",
    "            maxLength = len(copyInput._getChars())\n",
    "            idx1 = random.randint(0, maxLength-1)\n",
    "            idx2 = random.randint(0, maxLength-1)\n",
    "            copyInput._swapChar(idx1, idx2)\n",
    "        return copyInput\n",
    "    \n",
    "    def getCorruptWord(self, factor):\n",
    "        copyInput = EditText(self.getText())\n",
    "        maxLength = len(copyInput._getWords())\n",
    "        for i in range(int(factor * maxLength)):\n",
    "            maxLength = len(copyInput._getWords())\n",
    "            idx1 = random.randint(0, maxLength-1)\n",
    "            idx2 = random.randint(0, maxLength-1)\n",
    "            copyInput._swapWord(idx1, idx2)\n",
    "        return copyInput\n",
    "    \n",
    "    def getReplacedSentence(self, corruption):\n",
    "        copyInput = EditText(self.getText())\n",
    "        maxLength = len(copyInput._getSentences())\n",
    "        idx1 = random.randint(0, maxLength-1)\n",
    "        copyInput._remSentence(idx1)\n",
    "        copyInput._addSentence(idx1, corruption)\n",
    "        return copyInput"
   ]
  },
  {
   "cell_type": "code",
   "execution_count": 201,
   "metadata": {
    "collapsed": false
   },
   "outputs": [],
   "source": [
    "def getRandomSentences(f, variation):\n",
    "    corruptions = ['']\n",
    "    for i in range(variation):\n",
    "        corruption = ''\n",
    "        while len(corruption) < 20 or len(corruption) > 100:\n",
    "            idx1 = random.randint(0, MAX_LINE-1)\n",
    "            f.seek(LINE_LOCS[idx1])\n",
    "            corruption = f.readline()\n",
    "        corruptions.append(corruption[:-3])\n",
    "    return corruptions\n",
    "\n",
    "def processOneSwapQA2(maxCount, paragraphCount, minSent = 5, maxSent = 5, variation = 4, minChar = 1000): \n",
    "    with open(fname, 'r') as f:\n",
    "        choiceChar = \"AB\"\n",
    "        i = 0\n",
    "        questionCount = 1\n",
    "        chapter = []\n",
    "        for para in readAll(maxCount):\n",
    "            i = i + 1\n",
    "            if i % paragraphCount == 0:\n",
    "                a = EditText(''.join(chapter))\n",
    "                chapter = [para]\n",
    "                for k in range(len(choiceChar)):\n",
    "                    if len(a._getSentences()) <= minSent or len(a._getSentences()) >= maxSent:\n",
    "                        break                       \n",
    "                    corruptions = getRandomSentences(f, variation)\n",
    "                    if k == 0:\n",
    "                        doc = [\"*\" * 20, '\\n', a.getCleanText(), '\\n']\n",
    "                    else:\n",
    "                        print \"cc\", corruptions[k]\n",
    "                        doc = [\"*\" * 20, '\\n', a.getReplacedSentence(corruptions[k]).getCleanText(), '\\n']\n",
    "                        \n",
    "                    doc.extend([str(questionCount), \". Quality of the text is: \\n\"])\n",
    "                    for j in range(len(choiceChar)):\n",
    "                        if j == k:\n",
    "                            doc.extend([\"*\"])\n",
    "                        doc.extend([choiceChar[j], \")\", str(j), '\\n'])\n",
    "                    if len(''.join(doc)) < minChar:\n",
    "                        break\n",
    "                    yield ''.join(doc)\n",
    "                    questionCount = questionCount + 1\n",
    "            else:\n",
    "                chapter.append(para)"
   ]
  },
  {
   "cell_type": "code",
   "execution_count": 202,
   "metadata": {
    "collapsed": false
   },
   "outputs": [
    {
     "ename": "IndexError",
     "evalue": "list index out of range",
     "output_type": "error",
     "traceback": [
      "\u001b[1;31m---------------------------------------------------------------------------\u001b[0m",
      "\u001b[1;31mIndexError\u001b[0m                                Traceback (most recent call last)",
      "\u001b[1;32m<ipython-input-202-c0e1e660a5c9>\u001b[0m in \u001b[0;36m<module>\u001b[1;34m()\u001b[0m\n\u001b[0;32m     11\u001b[0m \u001b[1;32mwith\u001b[0m \u001b[0mopen\u001b[0m\u001b[1;33m(\u001b[0m\u001b[0mfilename\u001b[0m\u001b[1;33m,\u001b[0m \u001b[1;34m'w'\u001b[0m\u001b[1;33m)\u001b[0m \u001b[1;32mas\u001b[0m \u001b[0mf\u001b[0m\u001b[1;33m:\u001b[0m\u001b[1;33m\u001b[0m\u001b[0m\n\u001b[0;32m     12\u001b[0m     for chapter in processOneSwapQA2(fileCount, paragraphCount, minSent = minSent,\n\u001b[1;32m---> 13\u001b[1;33m                                       maxSent = maxSent, minChar = minChar):\n\u001b[0m\u001b[0;32m     14\u001b[0m         \u001b[1;32mif\u001b[0m \u001b[0mlen\u001b[0m\u001b[1;33m(\u001b[0m\u001b[0mchapter\u001b[0m\u001b[1;33m)\u001b[0m \u001b[1;33m>\u001b[0m \u001b[0mminChar\u001b[0m \u001b[1;33m*\u001b[0m \u001b[1;36m2.0\u001b[0m\u001b[1;33m/\u001b[0m\u001b[1;36m3.0\u001b[0m\u001b[1;33m:\u001b[0m\u001b[1;33m\u001b[0m\u001b[0m\n\u001b[0;32m     15\u001b[0m             \u001b[0mf\u001b[0m\u001b[1;33m.\u001b[0m\u001b[0mwrite\u001b[0m\u001b[1;33m(\u001b[0m\u001b[0mchapter\u001b[0m\u001b[1;33m)\u001b[0m\u001b[1;33m\u001b[0m\u001b[0m\n",
      "\u001b[1;32m<ipython-input-201-c6c561cb3f19>\u001b[0m in \u001b[0;36mprocessOneSwapQA2\u001b[1;34m(maxCount, paragraphCount, minSent, maxSent, variation, minChar)\u001b[0m\n\u001b[0;32m     22\u001b[0m                 \u001b[0mchapter\u001b[0m \u001b[1;33m=\u001b[0m \u001b[1;33m[\u001b[0m\u001b[0mpara\u001b[0m\u001b[1;33m]\u001b[0m\u001b[1;33m\u001b[0m\u001b[0m\n\u001b[0;32m     23\u001b[0m                 \u001b[1;32mfor\u001b[0m \u001b[0mk\u001b[0m \u001b[1;32min\u001b[0m \u001b[0mrange\u001b[0m\u001b[1;33m(\u001b[0m\u001b[0mlen\u001b[0m\u001b[1;33m(\u001b[0m\u001b[0mchoiceChar\u001b[0m\u001b[1;33m)\u001b[0m\u001b[1;33m)\u001b[0m\u001b[1;33m:\u001b[0m\u001b[1;33m\u001b[0m\u001b[0m\n\u001b[1;32m---> 24\u001b[1;33m                     \u001b[1;32mif\u001b[0m \u001b[0mlen\u001b[0m\u001b[1;33m(\u001b[0m\u001b[0ma\u001b[0m\u001b[1;33m.\u001b[0m\u001b[0m_getSentences\u001b[0m\u001b[1;33m(\u001b[0m\u001b[1;33m)\u001b[0m\u001b[1;33m)\u001b[0m \u001b[1;33m<=\u001b[0m \u001b[0mminSent\u001b[0m \u001b[1;32mor\u001b[0m \u001b[0mlen\u001b[0m\u001b[1;33m(\u001b[0m\u001b[0ma\u001b[0m\u001b[1;33m.\u001b[0m\u001b[0m_getSentences\u001b[0m\u001b[1;33m(\u001b[0m\u001b[1;33m)\u001b[0m\u001b[1;33m)\u001b[0m \u001b[1;33m>=\u001b[0m \u001b[0mmaxSent\u001b[0m\u001b[1;33m:\u001b[0m\u001b[1;33m\u001b[0m\u001b[0m\n\u001b[0m\u001b[0;32m     25\u001b[0m                         \u001b[1;32mbreak\u001b[0m\u001b[1;33m\u001b[0m\u001b[0m\n\u001b[0;32m     26\u001b[0m                     \u001b[0mcorruptions\u001b[0m \u001b[1;33m=\u001b[0m \u001b[0mgetRandomSentences\u001b[0m\u001b[1;33m(\u001b[0m\u001b[0mf\u001b[0m\u001b[1;33m,\u001b[0m \u001b[0mvariation\u001b[0m\u001b[1;33m)\u001b[0m\u001b[1;33m\u001b[0m\u001b[0m\n",
      "\u001b[1;32m<ipython-input-200-d638dd3a373b>\u001b[0m in \u001b[0;36m_getSentences\u001b[1;34m(self)\u001b[0m\n\u001b[0;32m     46\u001b[0m                     \u001b[1;32mif\u001b[0m \u001b[0mlen\u001b[0m\u001b[1;33m(\u001b[0m\u001b[0munit\u001b[0m\u001b[1;33m)\u001b[0m \u001b[1;33m!=\u001b[0m \u001b[1;36m0\u001b[0m \u001b[1;32mand\u001b[0m \u001b[0munit\u001b[0m \u001b[1;33m!=\u001b[0m \u001b[1;34m\".\"\u001b[0m \u001b[1;32mand\u001b[0m \u001b[0munit\u001b[0m\u001b[1;33m!=\u001b[0m \u001b[1;34m\" \"\u001b[0m\u001b[1;33m:\u001b[0m\u001b[1;33m\u001b[0m\u001b[0m\n\u001b[0;32m     47\u001b[0m                         \u001b[0mself\u001b[0m\u001b[1;33m.\u001b[0m\u001b[0msentences\u001b[0m\u001b[1;33m.\u001b[0m\u001b[0mappend\u001b[0m\u001b[1;33m(\u001b[0m\u001b[0munit\u001b[0m\u001b[1;33m)\u001b[0m\u001b[1;33m\u001b[0m\u001b[0m\n\u001b[1;32m---> 48\u001b[1;33m         \u001b[1;32mif\u001b[0m \u001b[0mself\u001b[0m\u001b[1;33m.\u001b[0m\u001b[0msentences\u001b[0m\u001b[1;33m[\u001b[0m\u001b[1;33m-\u001b[0m\u001b[1;36m1\u001b[0m\u001b[1;33m]\u001b[0m \u001b[1;33m!=\u001b[0m \u001b[1;34m\"C\"\u001b[0m \u001b[1;33m*\u001b[0m \u001b[1;36m20\u001b[0m \u001b[1;32mand\u001b[0m \u001b[0mself\u001b[0m\u001b[1;33m.\u001b[0m\u001b[0msentences\u001b[0m\u001b[1;33m[\u001b[0m\u001b[1;33m-\u001b[0m\u001b[1;36m1\u001b[0m\u001b[1;33m]\u001b[0m \u001b[1;33m!=\u001b[0m \u001b[1;34m\"P\"\u001b[0m \u001b[1;33m*\u001b[0m \u001b[1;36m20\u001b[0m\u001b[1;33m:\u001b[0m\u001b[1;33m\u001b[0m\u001b[0m\n\u001b[0m\u001b[0;32m     49\u001b[0m             \u001b[0mself\u001b[0m\u001b[1;33m.\u001b[0m\u001b[0msentences\u001b[0m\u001b[1;33m.\u001b[0m\u001b[0mappend\u001b[0m\u001b[1;33m(\u001b[0m\u001b[1;34m\"C\"\u001b[0m \u001b[1;33m*\u001b[0m \u001b[1;36m20\u001b[0m\u001b[1;33m)\u001b[0m\u001b[1;33m\u001b[0m\u001b[0m\n\u001b[0;32m     50\u001b[0m         \u001b[1;32mreturn\u001b[0m \u001b[0mself\u001b[0m\u001b[1;33m.\u001b[0m\u001b[0msentences\u001b[0m\u001b[1;33m\u001b[0m\u001b[0m\n",
      "\u001b[1;31mIndexError\u001b[0m: list index out of range"
     ]
    }
   ],
   "source": [
    "# QADirect training regime\n",
    "paragraphCount = 1\n",
    "minSent = 5\n",
    "maxSent = 10\n",
    "fileCount = 1\n",
    "minChar = 500\n",
    "i = 0\n",
    "corruptType = \"_sentencesOneSwap\"\n",
    "choiceType = \".qa2\"\n",
    "filename = \"qaDirect\" + corruptType + str(minSent)+ \"to\" + str(maxSent) \\\n",
    "                + \"_para\" + str(paragraphCount) + \"_files\" + str(fileCount) \\\n",
    "                + choiceType\n",
    "with open(filename, 'w') as f:\n",
    "    for chapter in processOneSwapQA2(fileCount, paragraphCount, minSent = minSent,\n",
    "                                      maxSent = maxSent, minChar = minChar):\n",
    "        if len(chapter) > minChar * 2.0/3.0:\n",
    "            f.write(chapter)\n",
    "            f.write('\\r\\n')\n",
    "        else:\n",
    "            print chapter\n",
    "        "
   ]
  },
  {
   "cell_type": "code",
   "execution_count": null,
   "metadata": {
    "collapsed": true
   },
   "outputs": [],
   "source": []
  },
  {
   "cell_type": "code",
   "execution_count": null,
   "metadata": {
    "collapsed": true
   },
   "outputs": [],
   "source": []
  },
  {
   "cell_type": "code",
   "execution_count": 189,
   "metadata": {
    "collapsed": true
   },
   "outputs": [],
   "source": [
    "with open(\"example.txt\",\"r\") as f:\n",
    "    inputText = f.read()\n",
    "with open(\"example.txt\",'r') as f:\n",
    "    corpus = f.read()\n",
    "inputText = re.sub(\"\\r?\\n\",' ', inputText).split(\"T\"*20)[1]\n",
    "corpus = re.sub(\"\\r?\\n\",' ', corpus).split(\"T\"*20)[1]"
   ]
  },
  {
   "cell_type": "code",
   "execution_count": 199,
   "metadata": {
    "collapsed": false
   },
   "outputs": [
    {
     "name": "stdout",
     "output_type": "stream",
     "text": [
      "['The first number is 0', ' The second number is 1', ' The third number is 2', ' The fourth number is 3', ' And the fifth number is not 5', 'PPPPPPPPPPPPPPPPPPPP', ' A for apple, b for banana', ' C for canada, d for deep learning', ' E for egg, f for far', ' G for game, h for hello', ' I for island, finally, j for jamaica', 'CCCCCCCCCCCCCCCCCCCC', ' Start at the beginning', ' Continue in the middle', ' Stop at the end', 'PPPPPPPPPPPPPPPPPPPP', ' Head, shoulders, knees and toes', ' Knees and toes', ' And eyes, and ears, and mouth, and nose', ' Head, shoulders, knees and toes, Knees and toes', 'CCCCCCCCCCCCCCCCCCCC']\n"
     ]
    }
   ],
   "source": [
    "a = EditText(inputText)\n",
    "# a = EditText(a.getCleanText())\n",
    "print a._getSentences()\n"
   ]
  },
  {
   "cell_type": "code",
   "execution_count": null,
   "metadata": {
    "collapsed": true
   },
   "outputs": [],
   "source": []
  },
  {
   "cell_type": "code",
   "execution_count": null,
   "metadata": {
    "collapsed": true
   },
   "outputs": [],
   "source": []
  },
  {
   "cell_type": "code",
   "execution_count": 5,
   "metadata": {
    "collapsed": false
   },
   "outputs": [],
   "source": [
    "def readAll(max):\n",
    "    for filename in os.listdir(u\"./adelaide_ebooks\"):\n",
    "        if max == 0:\n",
    "            break\n",
    "        filepath = u\"./adelaide_ebooks/\" + filename\n",
    "        with open(filepath, \"r\") as f:\n",
    "            data = f.read().split(\"T\"*20)[1]\n",
    "            data = re.sub(\"[\\\"\\'\\\\n]\", \" \", data)\n",
    "            data = re.sub(\"C\"*20, \"P\"*20, data)\n",
    "            for paragraph in data.split(\"P\"*20):\n",
    "                yield paragraph\n",
    "        if max % 25 == 0:\n",
    "            print -max\n",
    "        max = max - 1\n",
    "        \n",
    "def processQA(maxCount, factor, paragraphCount, minChar = 2000): \n",
    "    choiceChar = \"ABCDE\"\n",
    "    i = 0\n",
    "    questionCount = 1\n",
    "    chapter = []\n",
    "    for para in readAll(maxCount):\n",
    "        i = i + 1\n",
    "        if i % paragraphCount == 0:\n",
    "            a = EditText(''.join(chapter))\n",
    "            chapter = [para]\n",
    "            doc = [\"*\" * 20, '\\n', 'no passage \\n', str(questionCount), '. Find the best passage below: \\n']\n",
    "            idx = random.randint(0, len(choiceChar)-1)\n",
    "            for j in range(len(choiceChar)):\n",
    "                if j == idx:\n",
    "                    doc.extend([\"*\", choiceChar[j], \")\"])\n",
    "                    doc.extend([a.getCleanText(), '\\n'])\n",
    "                else:\n",
    "                    doc.extend([choiceChar[j], \")\"])\n",
    "                    doc.extend([a.getCorruptSentence(factor).getCleanText(), '\\n'])\n",
    "            if len(''.join(doc)) < minChar:\n",
    "                continue\n",
    "            yield ''.join(doc)\n",
    "            questionCount = questionCount + 1\n",
    "        else:\n",
    "            chapter.append(para)\n",
    "\n",
    "def processQA4(maxCount, paragraphCount, minChar = 2000, maxChar = 4000, \n",
    "               factors = [0, 0.25, 0.5, 0.75]): \n",
    "    choiceChar = \"ABCD\"\n",
    "    i = 0\n",
    "    questionCount = 1\n",
    "    chapter = []\n",
    "    for para in readAll(maxCount):\n",
    "        i = i + 1\n",
    "        if i % paragraphCount == 0:\n",
    "            a = EditText(''.join(chapter))\n",
    "            chapter = [para]\n",
    "            for k in range(4):\n",
    "                doc = [\"*\" * 20, '\\n', a.getCorruptSentence(factors[k]).getCleanText(), '\\n']\n",
    "                doc.extend([str(questionCount), \". Quality of the text is: \\n\"])\n",
    "                for j in range(4):\n",
    "                    if j == k:\n",
    "                        doc.extend([\"*\"])\n",
    "                    doc.extend([choiceChar[j], \")\", str(j), '\\n'])\n",
    "                if len(''.join(doc)) < minChar or len(''.join(doc)) > maxChar:\n",
    "                    continue\n",
    "                yield ''.join(doc)\n",
    "                questionCount = questionCount + 1\n",
    "        else:\n",
    "            chapter.append(para)\n",
    "            \n",
    "def processQA5(maxCount, paragraphCount, minChar = 2000, maxChar = 4000, factors = [0, 0.25, 0.5, 0.75, 1.0]): \n",
    "    choiceChar = \"ABCDE\"\n",
    "    i = 0\n",
    "    questionCount = 1\n",
    "    chapter = []\n",
    "    for para in readAll(maxCount):\n",
    "        i = i + 1\n",
    "        if i % paragraphCount == 0:\n",
    "            a = EditText(''.join(chapter))\n",
    "            chapter = [para]\n",
    "            for k in range(len(choiceChar)):\n",
    "                doc = [\"*\" * 20, '\\n', a.getCorruptSentence(factors[k]).getCleanText(), '\\n']\n",
    "                doc.extend([str(questionCount), \". Quality of the text is: \\n\"])\n",
    "                for j in range(len(choiceChar)):\n",
    "                    if j == k:\n",
    "                        doc.extend([\"*\"])\n",
    "                    doc.extend([choiceChar[j], \")\", str(j), '\\n'])\n",
    "                if len(''.join(doc)) < minChar or len(''.join(doc)) > maxChar:\n",
    "                    break\n",
    "                yield ''.join(doc)\n",
    "                questionCount = questionCount + 1\n",
    "        else:\n",
    "            chapter.append(para)\n",
    "\n",
    "def processCharQA5(maxCount, paragraphCount, minChar = 2000, maxChar = 4000, factors = [0, 0.025, 0.05, 0.075, 0.1]): \n",
    "    choiceChar = \"ABCDE\"\n",
    "    i = 0\n",
    "    questionCount = 1\n",
    "    chapter = []\n",
    "    for para in readAll(maxCount):\n",
    "        i = i + 1\n",
    "        if i % paragraphCount == 0:\n",
    "            a = EditText(''.join(chapter))\n",
    "            chapter = [para]\n",
    "            for k in range(len(choiceChar)):\n",
    "                doc = [\"*\" * 20, '\\n', a.getCorruptChar(factors[k]).getCleanText(), '\\n']\n",
    "                doc.extend([str(questionCount), \". Quality of the text is: \\n\"])\n",
    "                for j in range(len(choiceChar)):\n",
    "                    if j == k:\n",
    "                        doc.extend([\"*\"])\n",
    "                    doc.extend([choiceChar[j], \")\", str(j), '\\n'])\n",
    "                if len(''.join(doc)) < minChar or len(''.join(doc)) > maxChar:\n",
    "                    break\n",
    "                yield ''.join(doc)\n",
    "                questionCount = questionCount + 1\n",
    "        else:\n",
    "            chapter.append(para)\n",
    "            \n",
    "def processWordQA5(maxCount, paragraphCount, minChar = 2000, maxChar = 4000, factors = [0, 0.025, 0.05, 0.075, 0.1]): \n",
    "    choiceChar = \"ABCDE\"\n",
    "    i = 0\n",
    "    questionCount = 1\n",
    "    chapter = []\n",
    "    for para in readAll(maxCount):\n",
    "        i = i + 1\n",
    "        if i % paragraphCount == 0:\n",
    "            a = EditText(''.join(chapter))\n",
    "            chapter = [para]\n",
    "            for k in range(len(choiceChar)):\n",
    "                doc = [\"*\" * 20, '\\n', a.getCorruptWord(factors[k]).getCleanText(), '\\n']\n",
    "                doc.extend([str(questionCount), \". Quality of the text is: \\n\"])\n",
    "                for j in range(len(choiceChar)):\n",
    "                    if j == k:\n",
    "                        doc.extend([\"*\"])\n",
    "                    doc.extend([choiceChar[j], \")\", str(j), '\\n'])\n",
    "                if len(''.join(doc)) < minChar or len(''.join(doc)) > maxChar:\n",
    "                    break\n",
    "                yield ''.join(doc)\n",
    "                questionCount = questionCount + 1\n",
    "        else:\n",
    "            chapter.append(para)"
   ]
  },
  {
   "cell_type": "code",
   "execution_count": 87,
   "metadata": {
    "collapsed": false,
    "scrolled": false
   },
   "outputs": [
    {
     "name": "stdout",
     "output_type": "stream",
     "text": [
      "-200\n",
      "-175\n",
      "-150\n",
      "-125\n",
      "-100\n",
      "-75\n",
      "-50\n",
      "-25\n"
     ]
    }
   ],
   "source": [
    "# QADirect training regime\n",
    "paragraphCount = 1\n",
    "minChar = 350\n",
    "maxChar = 650\n",
    "fileCount = 200\n",
    "factors = [0, 0.025, 0.05, 0.075, 0.1]\n",
    "i = 0\n",
    "with open(\"qaDirect_characters_char350to650_para1_200files.qa5\", 'w') as f:\n",
    "    for chapter in processCharQA5(fileCount, paragraphCount, minChar = minChar, maxChar = maxChar, factors = factors):\n",
    "        f.write(chapter)\n",
    "        f.write('\\r\\n')\n",
    "        \n",
    "    "
   ]
  },
  {
   "cell_type": "code",
   "execution_count": 61,
   "metadata": {
    "collapsed": false
   },
   "outputs": [],
   "source": [
    "with open(\"5copy_qaDirect_char1500to3000_para1_25files.qa4\", 'w') as g:\n",
    "    for i in range(5):\n",
    "        with open(\"qaDirect_char1500to3000_para1_25files.qa4\", 'r') as f:\n",
    "            g.write(f.read())\n",
    "        "
   ]
  },
  {
   "cell_type": "code",
   "execution_count": null,
   "metadata": {
    "collapsed": true
   },
   "outputs": [],
   "source": []
  },
  {
   "cell_type": "code",
   "execution_count": null,
   "metadata": {
    "collapsed": true
   },
   "outputs": [],
   "source": []
  },
  {
   "cell_type": "code",
   "execution_count": 16,
   "metadata": {
    "collapsed": true
   },
   "outputs": [],
   "source": []
  },
  {
   "cell_type": "code",
   "execution_count": null,
   "metadata": {
    "collapsed": true
   },
   "outputs": [],
   "source": []
  },
  {
   "cell_type": "code",
   "execution_count": 110,
   "metadata": {
    "collapsed": true
   },
   "outputs": [],
   "source": [
    "def processQA2(maxCount, paragraphCount, minSent = 5, maxSent = 5, factors = [0, 1.0], minChar = 1000): \n",
    "    choiceChar = \"AB\"\n",
    "    i = 0\n",
    "    questionCount = 1\n",
    "    chapter = []\n",
    "    for para in readAll(maxCount):\n",
    "        i = i + 1\n",
    "        if i % paragraphCount == 0:\n",
    "            a = EditText(''.join(chapter))\n",
    "            chapter = [para]\n",
    "            for k in range(len(choiceChar)):\n",
    "                print a.getCleanText(),\"process\"\n",
    "                \n",
    "                doc = [\"*\" * 20, '\\n', a.getCorruptSentence(factors[k]).getCleanText(), '\\n']\n",
    "                doc.extend([str(questionCount), \". Quality of the text is: \\n\"])\n",
    "                for j in range(len(choiceChar)):\n",
    "                    if j == k:\n",
    "                        doc.extend([\"*\"])\n",
    "                    doc.extend([choiceChar[j], \")\", str(j), '\\n'])\n",
    "                if len(a._getSentences()) <= minSent or \\\n",
    "                    len(a._getSentences()) >= maxSent or \\\n",
    "                    len(''.join(doc)) < minChar:\n",
    "                    break\n",
    "                yield ''.join(doc)\n",
    "                questionCount = questionCount + 1\n",
    "                d\n",
    "        else:\n",
    "            chapter.append(para)"
   ]
  },
  {
   "cell_type": "code",
   "execution_count": 111,
   "metadata": {
    "collapsed": false
   },
   "outputs": [
    {
     "name": "stdout",
     "output_type": "stream",
     "text": [
      " process\n",
      " process\n",
      " process\n",
      " process\n",
      "“A backward glance o’er travell’d roads.” process\n",
      "Walt Whitman. process\n",
      "“Je veux remonter le penchant de mes belles annees . . . ” process\n",
      "Chateaubriand: “Memoires d’outre tombe.” process\n",
      "“Kein Genuss ist vorubergehend.” process\n",
      "Goethe: “Wilhelm Meister.” process\n",
      "To the friends process\n",
      "who every year on All Souls’ Night process\n",
      "come and sit with me process\n",
      "by the fire. process\n",
      " process\n",
      "“A backward glance o’er travell’d roads.” process\n",
      "Walt Whitman. process\n",
      " process\n",
      "“Je veux remonter le penchant de mes belles annees . . . ” process\n",
      "Chateaubriand: “Memoires d’outre tombe.” process\n",
      " process\n",
      "“Kein Genuss ist vorubergehend.” process\n",
      "Goethe: “Wilhelm Meister.” process\n",
      " process\n",
      "To the friends process\n",
      "who every year on All Souls’ Night process\n",
      "come and sit with me process\n",
      "by the fire. process\n",
      " process\n",
      "Years ago I said to myself: “There’s no such thing as old age; there is only sorrow.” process\n",
      "I have learned with the passing of time that this, though true, is not the whole truth. The other producer of old age is habit: the deathly process of doing the same thing in the same way at the same hour day after day, first from carelessness, then from inclination, at last from cowardice or inertia. Luckily the inconsequent life is not the only alternative; for caprice is as ruinous as routine. Habit is necessary; it is the habit of having habits, of turning a trail into a rut, that must be incessantly fought against if one is to remain alive. process\n",
      "In spite of illness, in spite even of the arch-enemy sorrow, one CAN remain alive long past the usual date of disintegration if one is unafraid of change, insatiable in intellectual curiosity, interested in big things, and happy in small ways. In the course of sorting and setting down of my memories I have learned that these advantages are usually independent of one’s merits, and that I probably owe my happy old age to the ancestor who accidentally endowed me with these qualities. process\n",
      "Another advantage (equally accidental) is that I do not remember long to be angry. I seldom forget a bruise to the soul — who does? But life puts a quick balm on it, and it is recorded in a book I seldom open. Not long ago I read a number of reviews of a recently published autobiography. All the reviewers united in praising it on the score that here at last was an autobiographer who was not afraid to tell the truth! And what gave the book this air of truthfulness? Simply the fact that the memorialist “spared no one,” set down in detail every defect and absurdity in others, and every resentment in the writer. That was the kind of autobiography worth reading! process\n",
      "Judged by that standard mine, I fear, will find few readers. I have not escaped contact with the uncongenial; but the antipathy they aroused was usually reciprocal, and this simplified and restricted our intercourse. Nor do I remember that these unappreciative persons ever marked their lack of interest in me by anything more harmful than indifference. I recall no sensational grievances. Everywhere on my path I have met with kindness and furtherance; and from the few dearest to me an exquisite understanding. It will be seen, then, that in telling my story I have had to make the best of unsensational material; and if what I have to tell interests my readers, that merit at least will be my own. process\n",
      "Madame Swetchine, that eminent Christian, was once asked how she managed to feel Christianly toward her enemies. She looked surprised. “Un ennemi? Mais de tous les accidents c’est le plus rare!” process\n",
      "So I have found it. process\n",
      "Several chapters of this book have already appeared in the “Atlantic Monthly” and “The Ladies’ Home Journal.” I have also to thank Sir John Murray for kindly permitting me to incorporate in the book two or three passages from an essay on Henry James, published in “The Quarterly Review” of July 1920 and the Editor of “The Colophon” for the use of a few paragraphs on the writing of “Ethan Frome.” process\n",
      "E. W. process\n",
      " process\n",
      " process\n",
      "Gute Gesellschaft hab ich gesehen; man nennt sie die gute Wenn sie zum kleinsten Gedicht nicht die Gelegenheit giebt. process\n",
      "Goethe: “Venezianische Epigrammen.” process\n",
      "It was on a bright day of midwinter, in New York. The little girl who eventually became me, but as yet was neither me nor anybody else in particular, but merely a soft anonymous morsel of humanity — this little girl, who bore my name, was going for a walk with her father. The episode is literally the first thing I can remember about her, and therefore I date the birth of her identity from that day. process\n",
      "She had been put into her warmest coat, and into a new and very pretty bonnet, which she had surveyed in the glass with considerable satisfaction. The bonnet (I can see it today) was of white satin, patterned with a pink and green plaid in raised velvet. It was all drawn into close gathers, with a bavolet in the neck to keep out the cold, and thick ruffles of silky blonde lace under the brim in front. As the air was very cold a gossamer veil of the finest white Shetland wool was drawn about the bonnet and hung down over the wearer’s round red cheeks like the white paper filigree over a Valentine; and her hands were encased in white woollen mittens. process\n",
      "One of them lay in the large safe hollow of her father’s bare hand; her tall handsome father, who was so warm-blooded that in the coldest weather he always went out without gloves, and whose head, with its ruddy complexion and intensely blue eyes, was so far aloft that when she walked beside him she was too near to see his face. It was always an event in the little girl’s life to take a walk with her father, and more particularly so today, because she had on her new winter bonnet, which was so beautiful (and so becoming) that for the first time she woke to the importance of dress, and of herself as a subject for adornment — so that I may date from that hour the birth of the conscious and feminine ME in the little girl’s vague soul. process\n",
      "The little girl and her father walked up Fifth Avenue: the old Fifth Avenue with its double line of low brown-stone houses, of a desperate uniformity of style, broken only — and surprisingly — by two equally unexpected features: the fenced-in plot of ground where the old Miss Kennedys’ cows were pastured, and the truncated Egyptian pyramid which so strangely served as a reservoir for New York’s water supply. The Fifth Avenue of that day was a placid and uneventful thoroughfare, along which genteel landaus, broughams and victorias, and more countrified vehicles of the “carry-all” and “surrey” type, moved up and down at decent intervals and a decorous pace. On Sundays after church the fashionable of various denominations paraded there on foot, in gathered satin bonnets and tall hats; but at other times it presented long stretches of empty pavement, so that the little girl, advancing at her father’s side, was able to see at a considerable distance the approach of another pair of legs, not as long but considerably stockier than her father’s. The little girl was so very little that she never got much higher than the knees in her survey of grown-up people, and would not have known, if her father had not told her, that the approaching legs belonged to his cousin Henry. The news was very interesting, because in attendance on Cousin Henry was a small person, no bigger than herself, who must obviously be Cousin Henry’s little boy Daniel, and therefore somehow belong to the little girl. So when the tall legs and the stocky ones halted for a talk, which took place somewhere high up in the air, and the small Daniel and Edith found themselves face to face close to the pavement, the little girl peered with interest at the little boy through the white woollen mist over her face. The little boy, who was very round and rosy, looked back with equal interest; and suddenly he put out a chubby hand, lifted the little girl’s veil, and boldly planted a kiss on her cheek. It was the first time — and the little girl found it very pleasant. process\n",
      "This is my earliest definite memory of anything happening to me; and it will be seen that I was wakened to conscious life by the two tremendous forces of love and vanity. process\n",
      "It may have been just after this memorable day — at any rate it was nearly at the same time — that a snowy-headed old gentleman with a red face and a spun-sugar moustache and imperial gave me a white Spitz puppy which looked as if its coat had been woven out of the donor’s luxuriant locks. The old gentleman, in whose veins ran the purest blood of Dutch Colonial New York, was called Mr. Lydig Suydam, and I should like his name to survive till this page has crumbled, for with his gift a new life began for me. The owning of my first dog made me into a conscious sentient person, fiercely possessive, anxiously watchful, and woke in me that long ache of pity for animals, and for all inarticulate beings, which nothing has ever stilled. How I loved that first “Foxy” of mine, how I cherished and yearned over and understood him! And how quickly he relegated all dolls and other inanimate toys to the region of my everlasting indifference! process\n",
      "I never cared much in my little childhood for fairy tales, or any appeals to my fancy through the fabulous or legendary. My imagination lay there, coiled and sleeping, a mute hibernating creature, and at the least touch of common things — flowers, animals, words, especially the sound of words, apart from their meaning — it already stirred in its sleep, and then sank back into its own rich dream, which needed so little feeding from the outside that it instinctively rejected whatever another imagination had already adorned and completed. There was, however, one fairy tale at which I always thrilled — the story of the boy who could talk with the birds and hear what the grasses said. Very early, earlier than my conscious memory can reach, I must have felt myself to be of kin to that happy child. I cannot remember when the grasses first spoke to me, though I think it was when, a few years later, one of my uncles took me, with some little cousins, to spend a long spring day in some marshy woods near Mamaroneck, where the earth was starred with pink trailing arbutus, where pouch-like white and rosy flowers grew in a swamp, and leafless branches against the sky were netted with buds of mother-of-pearl; but on the day when Foxy was given to me I learned what the animals say to each other, and to us . . . process\n",
      "The readers (and I should doubtless have been among them) who twenty years ago would have smiled at the idea that time could transform a group of bourgeois colonials and their republican descendants into a sort of social aristocracy, are now better able to measure the formative value of nearly three hundred years of social observance: the concerted living up to long-established standards of honour and conduct, of education and manners. The value of duration is slowly asserting itself against the welter of change, and sociologists without a drop of American blood in them have been the first to recognise what the traditions of three centuries have contributed to the moral wealth of our country. Even negatively, these traditions have acquired, with the passing of time, an unsuspected value. When I was young it used to seem to me that the group in which I grew up was like an empty vessel into which no new wine would ever again be poured. Now I see that one of its uses lay in preserving a few drops of an old vintage too rare to be savoured by a youthful palate; and I should like to atone for my unappreciativeness by trying to revive that faint fragrance. process\n",
      "If any one had suggested to me, before 1914, to write my reminiscences, I should have answered that my life had been too uneventful to be worth recording. Indeed, I had never even thought of recording it for my own amusement, and the fact that until 1918 I never kept even the briefest of diaries has greatly hampered this tardy reconstruction. Not until the successive upheavals which culminated in the catastrophe of 1914 had “cut all likeness from the name” of my old New York, did I begin to see its pathetic picturesqueness. The first change came in the ‘eighties, with the earliest detachment of big money-makers from the West, soon to be followed by the lords of Pittsburgh. But their infiltration did not greatly affect old manners and customs, since the dearest ambition of the new-comers was to assimilate existing traditions. Social life, with us as in the rest of the world, went on with hardly perceptible changes till the war abruptly tore down the old frame-work, and what had seemed unalterable rules of conduct became of a sudden observances as quaintly arbitrary as the domestic rites of the Pharaohs. Between the point of view of my Huguenot great-great-grandfather, who came from the French Palatinate to participate in the founding of New Rochelle, and my own father, who died in 1882, there were fewer differences than between my father and the post-war generation of Americans. That I was born into a world in which telephones, motors, electric light, central heating (except by hot-air furnaces), X-rays, cinemas, radium, aeroplanes and wireless telegraphy were not only unknown but still mostly unforeseen, may seem the most striking difference between then and now; but the really vital change is that, in my youth, the Americans of the original States, who in moments of crisis still shaped the national point of view, were the heirs of an old tradition of European culture which the country has now totally rejected. This rejection (which Mr. Walter Lippmann regards as the chief cause of the country’s present moral impoverishment) has opened a gulf between those days and these. The compact world of my youth has receded into a past from which it can only be dug up in bits by the assiduous relic-hunter; and its smallest fragments begin to be worth collecting and putting together before the last of those who knew the live structure are swept away with it. process\n"
     ]
    },
    {
     "ename": "NameError",
     "evalue": "global name 'd' is not defined",
     "output_type": "error",
     "traceback": [
      "\u001b[1;31m---------------------------------------------------------------------------\u001b[0m",
      "\u001b[1;31mNameError\u001b[0m                                 Traceback (most recent call last)",
      "\u001b[1;32m<ipython-input-111-9806470df5a6>\u001b[0m in \u001b[0;36m<module>\u001b[1;34m()\u001b[0m\n\u001b[0;32m     12\u001b[0m \u001b[1;32mwith\u001b[0m \u001b[0mopen\u001b[0m\u001b[1;33m(\u001b[0m\u001b[0mfilename\u001b[0m\u001b[1;33m,\u001b[0m \u001b[1;34m'w'\u001b[0m\u001b[1;33m)\u001b[0m \u001b[1;32mas\u001b[0m \u001b[0mf\u001b[0m\u001b[1;33m:\u001b[0m\u001b[1;33m\u001b[0m\u001b[0m\n\u001b[0;32m     13\u001b[0m     for chapter in processQA2(fileCount, paragraphCount, minSent = minSent,\n\u001b[1;32m---> 14\u001b[1;33m                               maxSent = maxSent, factors = factors, minChar = minChar):\n\u001b[0m\u001b[0;32m     15\u001b[0m         \u001b[1;32mif\u001b[0m \u001b[0mlen\u001b[0m\u001b[1;33m(\u001b[0m\u001b[0mchapter\u001b[0m\u001b[1;33m)\u001b[0m \u001b[1;33m>\u001b[0m \u001b[0mminChar\u001b[0m \u001b[1;33m*\u001b[0m \u001b[1;36m2.0\u001b[0m\u001b[1;33m/\u001b[0m\u001b[1;36m3.0\u001b[0m\u001b[1;33m:\u001b[0m\u001b[1;33m\u001b[0m\u001b[0m\n\u001b[0;32m     16\u001b[0m             \u001b[0mf\u001b[0m\u001b[1;33m.\u001b[0m\u001b[0mwrite\u001b[0m\u001b[1;33m(\u001b[0m\u001b[0mchapter\u001b[0m\u001b[1;33m)\u001b[0m\u001b[1;33m\u001b[0m\u001b[0m\n",
      "\u001b[1;32m<ipython-input-110-5d06308d8aac>\u001b[0m in \u001b[0;36mprocessQA2\u001b[1;34m(maxCount, paragraphCount, minSent, maxSent, factors, minChar)\u001b[0m\n\u001b[0;32m     22\u001b[0m                 \u001b[1;32myield\u001b[0m \u001b[1;34m''\u001b[0m\u001b[1;33m.\u001b[0m\u001b[0mjoin\u001b[0m\u001b[1;33m(\u001b[0m\u001b[0mdoc\u001b[0m\u001b[1;33m)\u001b[0m\u001b[1;33m\u001b[0m\u001b[0m\n\u001b[0;32m     23\u001b[0m                 \u001b[0mquestionCount\u001b[0m \u001b[1;33m=\u001b[0m \u001b[0mquestionCount\u001b[0m \u001b[1;33m+\u001b[0m \u001b[1;36m1\u001b[0m\u001b[1;33m\u001b[0m\u001b[0m\n\u001b[1;32m---> 24\u001b[1;33m                 \u001b[0md\u001b[0m\u001b[1;33m\u001b[0m\u001b[0m\n\u001b[0m\u001b[0;32m     25\u001b[0m         \u001b[1;32melse\u001b[0m\u001b[1;33m:\u001b[0m\u001b[1;33m\u001b[0m\u001b[0m\n\u001b[0;32m     26\u001b[0m             \u001b[0mchapter\u001b[0m\u001b[1;33m.\u001b[0m\u001b[0mappend\u001b[0m\u001b[1;33m(\u001b[0m\u001b[0mpara\u001b[0m\u001b[1;33m)\u001b[0m\u001b[1;33m\u001b[0m\u001b[0m\n",
      "\u001b[1;31mNameError\u001b[0m: global name 'd' is not defined"
     ]
    }
   ],
   "source": [
    "# QADirect training regime\n",
    "paragraphCount = 1\n",
    "minSent = 10\n",
    "maxSent = 50\n",
    "fileCount = -1\n",
    "factors = [0, 1.0]\n",
    "minChar = 1500\n",
    "i = 0\n",
    "corruptType = \"_sentences\"\n",
    "choiceType = \".qa2\"\n",
    "filename = \"qaDirect\" + corruptType + str(minSent)+ \"to\" + str(maxSent) \\\n",
    "                + \"_para\" + str(paragraphCount) + \"_files\" + str(fileCount) \\\n",
    "                + choiceType\n",
    "with open(filename, 'w') as f:\n",
    "    for chapter in processQA2(fileCount, paragraphCount, minSent = minSent,\n",
    "                              maxSent = maxSent, factors = factors, minChar = minChar):\n",
    "        if len(chapter) > minChar * 2.0/3.0:\n",
    "            f.write(chapter)\n",
    "            f.write('\\r\\n')\n",
    "        else:\n",
    "            print chapter\n",
    "        "
   ]
  },
  {
   "cell_type": "code",
   "execution_count": null,
   "metadata": {
    "collapsed": true
   },
   "outputs": [],
   "source": []
  },
  {
   "cell_type": "code",
   "execution_count": 15,
   "metadata": {
    "collapsed": true
   },
   "outputs": [],
   "source": []
  },
  {
   "cell_type": "code",
   "execution_count": null,
   "metadata": {
    "collapsed": true
   },
   "outputs": [],
   "source": []
  },
  {
   "cell_type": "code",
   "execution_count": 18,
   "metadata": {
    "collapsed": true
   },
   "outputs": [],
   "source": [
    "import random\n",
    "\n",
    "def random_line(afile):\n",
    "    line = next(afile)\n",
    "    for num, aline in enumerate(afile):\n",
    "        if random.randrange(num + 2): continue\n",
    "        line = aline\n",
    "    return line"
   ]
  },
  {
   "cell_type": "code",
   "execution_count": 26,
   "metadata": {
    "collapsed": false
   },
   "outputs": [
    {
     "name": "stdout",
     "output_type": "stream",
     "text": [
      "Head, shoulders, knees and toes. Knees and toes. And eyes, and ears, and mouth, and nose. Head, shoulders, knees and toes, Knees and toes.\n",
      "\n"
     ]
    }
   ],
   "source": [
    "with open('example.txt', 'r') as f:\n",
    "    print random_line(f)\n"
   ]
  },
  {
   "cell_type": "code",
   "execution_count": null,
   "metadata": {
    "collapsed": true
   },
   "outputs": [],
   "source": []
  },
  {
   "cell_type": "code",
   "execution_count": null,
   "metadata": {
    "collapsed": true
   },
   "outputs": [],
   "source": []
  },
  {
   "cell_type": "code",
   "execution_count": 19,
   "metadata": {
    "collapsed": false
   },
   "outputs": [
    {
     "name": "stdout",
     "output_type": "stream",
     "text": [
      "3000000\n",
      "6000000\n",
      "9000000\n",
      "12000000\n",
      "15000000\n",
      "18000000\n"
     ]
    }
   ],
   "source": [
    "# find the location of the new line\n",
    "\n",
    "fname = './corpus/adelaide_sentences.para'\n",
    "LINE_LOCS = [0]\n",
    "counter = 0\n",
    "with open(fname, 'r') as f:\n",
    "    for line in f:\n",
    "        LINE_LOCS.append(len(line)+1+LINE_LOCS[-1])\n",
    "        counter = counter + 1\n",
    "        if counter % 3000000 == 0 :\n",
    "            print counter,\n",
    "MAX_LINE = len(LINE_LOCS)"
   ]
  },
  {
   "cell_type": "code",
   "execution_count": 97,
   "metadata": {
    "collapsed": false
   },
   "outputs": [],
   "source": [
    "def processOneSwapQA2(maxCount, paragraphCount, minSent = 5, maxSent = 5, factors = [0, 1.0], minChar = 1000): \n",
    "    with open(fname, 'r') as f:\n",
    "        corruption = ''\n",
    "        while len(corruption) < 20 or len(corruption) > 100:\n",
    "            idx1 = random.randint(0, MAX_LINE-1)\n",
    "            f.seek(LINE_LOCS[idx1])\n",
    "            corruption = f.readline()\n",
    "    choiceChar = \"AB\"\n",
    "    i = 0\n",
    "    questionCount = 1\n",
    "    chapter = []\n",
    "    for para in readAll(maxCount):\n",
    "        i = i + 1\n",
    "        if i % paragraphCount == 0:\n",
    "            a = EditText(''.join(chapter))\n",
    "            chapter = [para]\n",
    "            for k in range(len(choiceChar)):\n",
    "                doc = [\"*\" * 20, '\\n', a.getReplacedSentence(corruption).getCleanText(), '\\n']\n",
    "                doc.extend([str(questionCount), \". Quality of the text is: \\n\"])\n",
    "                for j in range(len(choiceChar)):\n",
    "                    if j == k:\n",
    "                        doc.extend([\"*\"])\n",
    "                    doc.extend([choiceChar[j], \")\", str(j), '\\n'])\n",
    "                if len(a._getSentences()) <= minSent or \\\n",
    "                    len(a._getSentences()) >= maxSent or \\\n",
    "                    len(''.join(doc)) < minChar:\n",
    "                    break\n",
    "                yield ''.join(doc)\n",
    "                questionCount = questionCount + 1\n",
    "        else:\n",
    "            chapter.append(para)"
   ]
  },
  {
   "cell_type": "code",
   "execution_count": 98,
   "metadata": {
    "collapsed": false
   },
   "outputs": [
    {
     "name": "stdout",
     "output_type": "stream",
     "text": [
      "0 maxLength\n"
     ]
    },
    {
     "ename": "ValueError",
     "evalue": "empty range for randrange() (0,0, 0)",
     "output_type": "error",
     "traceback": [
      "\u001b[1;31m---------------------------------------------------------------------------\u001b[0m",
      "\u001b[1;31mValueError\u001b[0m                                Traceback (most recent call last)",
      "\u001b[1;32m<ipython-input-98-9143a5a0fe1f>\u001b[0m in \u001b[0;36m<module>\u001b[1;34m()\u001b[0m\n\u001b[0;32m     11\u001b[0m \u001b[1;32mwith\u001b[0m \u001b[0mopen\u001b[0m\u001b[1;33m(\u001b[0m\u001b[0mfilename\u001b[0m\u001b[1;33m,\u001b[0m \u001b[1;34m'w'\u001b[0m\u001b[1;33m)\u001b[0m \u001b[1;32mas\u001b[0m \u001b[0mf\u001b[0m\u001b[1;33m:\u001b[0m\u001b[1;33m\u001b[0m\u001b[0m\n\u001b[0;32m     12\u001b[0m     for chapter in processOneSwapQA2(fileCount, paragraphCount, minSent = minSent,\n\u001b[1;32m---> 13\u001b[1;33m                                       maxSent = maxSent, minChar = minChar):\n\u001b[0m\u001b[0;32m     14\u001b[0m         \u001b[1;32mif\u001b[0m \u001b[0mlen\u001b[0m\u001b[1;33m(\u001b[0m\u001b[0mchapter\u001b[0m\u001b[1;33m)\u001b[0m \u001b[1;33m>\u001b[0m \u001b[0mminChar\u001b[0m \u001b[1;33m*\u001b[0m \u001b[1;36m2.0\u001b[0m\u001b[1;33m/\u001b[0m\u001b[1;36m3.0\u001b[0m\u001b[1;33m:\u001b[0m\u001b[1;33m\u001b[0m\u001b[0m\n\u001b[0;32m     15\u001b[0m             \u001b[0mf\u001b[0m\u001b[1;33m.\u001b[0m\u001b[0mwrite\u001b[0m\u001b[1;33m(\u001b[0m\u001b[0mchapter\u001b[0m\u001b[1;33m)\u001b[0m\u001b[1;33m\u001b[0m\u001b[0m\n",
      "\u001b[1;32m<ipython-input-97-62def96e2f18>\u001b[0m in \u001b[0;36mprocessOneSwapQA2\u001b[1;34m(maxCount, paragraphCount, minSent, maxSent, factors, minChar)\u001b[0m\n\u001b[0;32m     16\u001b[0m             \u001b[0mchapter\u001b[0m \u001b[1;33m=\u001b[0m \u001b[1;33m[\u001b[0m\u001b[0mpara\u001b[0m\u001b[1;33m]\u001b[0m\u001b[1;33m\u001b[0m\u001b[0m\n\u001b[0;32m     17\u001b[0m             \u001b[1;32mfor\u001b[0m \u001b[0mk\u001b[0m \u001b[1;32min\u001b[0m \u001b[0mrange\u001b[0m\u001b[1;33m(\u001b[0m\u001b[0mlen\u001b[0m\u001b[1;33m(\u001b[0m\u001b[0mchoiceChar\u001b[0m\u001b[1;33m)\u001b[0m\u001b[1;33m)\u001b[0m\u001b[1;33m:\u001b[0m\u001b[1;33m\u001b[0m\u001b[0m\n\u001b[1;32m---> 18\u001b[1;33m                 \u001b[0mdoc\u001b[0m \u001b[1;33m=\u001b[0m \u001b[1;33m[\u001b[0m\u001b[1;34m\"*\"\u001b[0m \u001b[1;33m*\u001b[0m \u001b[1;36m20\u001b[0m\u001b[1;33m,\u001b[0m \u001b[1;34m'\\n'\u001b[0m\u001b[1;33m,\u001b[0m \u001b[0ma\u001b[0m\u001b[1;33m.\u001b[0m\u001b[0mgetReplacedSentence\u001b[0m\u001b[1;33m(\u001b[0m\u001b[0mcorruption\u001b[0m\u001b[1;33m)\u001b[0m\u001b[1;33m.\u001b[0m\u001b[0mgetCleanText\u001b[0m\u001b[1;33m(\u001b[0m\u001b[1;33m)\u001b[0m\u001b[1;33m,\u001b[0m \u001b[1;34m'\\n'\u001b[0m\u001b[1;33m]\u001b[0m\u001b[1;33m\u001b[0m\u001b[0m\n\u001b[0m\u001b[0;32m     19\u001b[0m                 \u001b[0mdoc\u001b[0m\u001b[1;33m.\u001b[0m\u001b[0mextend\u001b[0m\u001b[1;33m(\u001b[0m\u001b[1;33m[\u001b[0m\u001b[0mstr\u001b[0m\u001b[1;33m(\u001b[0m\u001b[0mquestionCount\u001b[0m\u001b[1;33m)\u001b[0m\u001b[1;33m,\u001b[0m \u001b[1;34m\". Quality of the text is: \\n\"\u001b[0m\u001b[1;33m]\u001b[0m\u001b[1;33m)\u001b[0m\u001b[1;33m\u001b[0m\u001b[0m\n\u001b[0;32m     20\u001b[0m                 \u001b[1;32mfor\u001b[0m \u001b[0mj\u001b[0m \u001b[1;32min\u001b[0m \u001b[0mrange\u001b[0m\u001b[1;33m(\u001b[0m\u001b[0mlen\u001b[0m\u001b[1;33m(\u001b[0m\u001b[0mchoiceChar\u001b[0m\u001b[1;33m)\u001b[0m\u001b[1;33m)\u001b[0m\u001b[1;33m:\u001b[0m\u001b[1;33m\u001b[0m\u001b[0m\n",
      "\u001b[1;32m<ipython-input-81-3eeadcfba325>\u001b[0m in \u001b[0;36mgetReplacedSentence\u001b[1;34m(self, corruption)\u001b[0m\n\u001b[0;32m    145\u001b[0m         \u001b[0mmaxLength\u001b[0m \u001b[1;33m=\u001b[0m \u001b[0mlen\u001b[0m\u001b[1;33m(\u001b[0m\u001b[0mcopyInput\u001b[0m\u001b[1;33m.\u001b[0m\u001b[0m_getSentences\u001b[0m\u001b[1;33m(\u001b[0m\u001b[1;33m)\u001b[0m\u001b[1;33m)\u001b[0m\u001b[1;33m\u001b[0m\u001b[0m\n\u001b[0;32m    146\u001b[0m         \u001b[1;32mprint\u001b[0m \u001b[0mmaxLength\u001b[0m\u001b[1;33m,\u001b[0m \u001b[1;34m\"maxLength\"\u001b[0m\u001b[1;33m\u001b[0m\u001b[0m\n\u001b[1;32m--> 147\u001b[1;33m         \u001b[0midx1\u001b[0m \u001b[1;33m=\u001b[0m \u001b[0mrandom\u001b[0m\u001b[1;33m.\u001b[0m\u001b[0mrandint\u001b[0m\u001b[1;33m(\u001b[0m\u001b[1;36m0\u001b[0m\u001b[1;33m,\u001b[0m \u001b[0mmaxLength\u001b[0m\u001b[1;33m-\u001b[0m\u001b[1;36m1\u001b[0m\u001b[1;33m)\u001b[0m\u001b[1;33m\u001b[0m\u001b[0m\n\u001b[0m\u001b[0;32m    148\u001b[0m         \u001b[0mcopyInput\u001b[0m\u001b[1;33m.\u001b[0m\u001b[0m_remSentence\u001b[0m\u001b[1;33m(\u001b[0m\u001b[0midx1\u001b[0m\u001b[1;33m)\u001b[0m\u001b[1;33m\u001b[0m\u001b[0m\n\u001b[0;32m    149\u001b[0m         \u001b[0mcopyInput\u001b[0m\u001b[1;33m.\u001b[0m\u001b[0m_addSentence\u001b[0m\u001b[1;33m(\u001b[0m\u001b[0midx1\u001b[0m\u001b[1;33m,\u001b[0m \u001b[0mcorruption\u001b[0m\u001b[1;33m)\u001b[0m\u001b[1;33m\u001b[0m\u001b[0m\n",
      "\u001b[1;32mC:\\Anaconda2\\lib\\random.pyc\u001b[0m in \u001b[0;36mrandint\u001b[1;34m(self, a, b)\u001b[0m\n\u001b[0;32m    240\u001b[0m         \"\"\"\n\u001b[0;32m    241\u001b[0m \u001b[1;33m\u001b[0m\u001b[0m\n\u001b[1;32m--> 242\u001b[1;33m         \u001b[1;32mreturn\u001b[0m \u001b[0mself\u001b[0m\u001b[1;33m.\u001b[0m\u001b[0mrandrange\u001b[0m\u001b[1;33m(\u001b[0m\u001b[0ma\u001b[0m\u001b[1;33m,\u001b[0m \u001b[0mb\u001b[0m\u001b[1;33m+\u001b[0m\u001b[1;36m1\u001b[0m\u001b[1;33m)\u001b[0m\u001b[1;33m\u001b[0m\u001b[0m\n\u001b[0m\u001b[0;32m    243\u001b[0m \u001b[1;33m\u001b[0m\u001b[0m\n\u001b[0;32m    244\u001b[0m     def _randbelow(self, n, _log=_log, _int=int, _maxwidth=1L<<BPF,\n",
      "\u001b[1;32mC:\\Anaconda2\\lib\\random.pyc\u001b[0m in \u001b[0;36mrandrange\u001b[1;34m(self, start, stop, step, _int, _maxwidth)\u001b[0m\n\u001b[0;32m    216\u001b[0m             \u001b[1;32mreturn\u001b[0m \u001b[0m_int\u001b[0m\u001b[1;33m(\u001b[0m\u001b[0mistart\u001b[0m \u001b[1;33m+\u001b[0m \u001b[0m_int\u001b[0m\u001b[1;33m(\u001b[0m\u001b[0mself\u001b[0m\u001b[1;33m.\u001b[0m\u001b[0mrandom\u001b[0m\u001b[1;33m(\u001b[0m\u001b[1;33m)\u001b[0m\u001b[1;33m*\u001b[0m\u001b[0mwidth\u001b[0m\u001b[1;33m)\u001b[0m\u001b[1;33m)\u001b[0m\u001b[1;33m\u001b[0m\u001b[0m\n\u001b[0;32m    217\u001b[0m         \u001b[1;32mif\u001b[0m \u001b[0mstep\u001b[0m \u001b[1;33m==\u001b[0m \u001b[1;36m1\u001b[0m\u001b[1;33m:\u001b[0m\u001b[1;33m\u001b[0m\u001b[0m\n\u001b[1;32m--> 218\u001b[1;33m             \u001b[1;32mraise\u001b[0m \u001b[0mValueError\u001b[0m\u001b[1;33m,\u001b[0m \u001b[1;34m\"empty range for randrange() (%d,%d, %d)\"\u001b[0m \u001b[1;33m%\u001b[0m \u001b[1;33m(\u001b[0m\u001b[0mistart\u001b[0m\u001b[1;33m,\u001b[0m \u001b[0mistop\u001b[0m\u001b[1;33m,\u001b[0m \u001b[0mwidth\u001b[0m\u001b[1;33m)\u001b[0m\u001b[1;33m\u001b[0m\u001b[0m\n\u001b[0m\u001b[0;32m    219\u001b[0m \u001b[1;33m\u001b[0m\u001b[0m\n\u001b[0;32m    220\u001b[0m         \u001b[1;31m# Non-unit step argument supplied.\u001b[0m\u001b[1;33m\u001b[0m\u001b[1;33m\u001b[0m\u001b[0m\n",
      "\u001b[1;31mValueError\u001b[0m: empty range for randrange() (0,0, 0)"
     ]
    }
   ],
   "source": [
    "# QADirect training regime\n",
    "paragraphCount = 1\n",
    "minSent = 10\n",
    "maxSent = 50\n",
    "fileCount = 1\n",
    "minChar = 1500\n",
    "i = 0\n",
    "corruptType = \"_sentencesOneSwap\"\n",
    "choiceType = \".qa2\"\n",
    "filename = \"qaDirect\" + corruptType + str(minSent)+ \"to\" + str(maxSent) \\\n",
    "                + \"_para\" + str(paragraphCount) + \"_files\" + str(fileCount) \\\n",
    "                + choiceType\n",
    "with open(filename, 'w') as f:\n",
    "    for chapter in processOneSwapQA2(fileCount, paragraphCount, minSent = minSent,\n",
    "                                      maxSent = maxSent, minChar = minChar):\n",
    "        if len(chapter) > minChar * 2.0/3.0:\n",
    "            f.write(chapter)\n",
    "            f.write('\\r\\n')\n",
    "            print chapter\n",
    "        else:\n",
    "            print chapter\n",
    "        "
   ]
  },
  {
   "cell_type": "code",
   "execution_count": null,
   "metadata": {
    "collapsed": true
   },
   "outputs": [],
   "source": []
  },
  {
   "cell_type": "code",
   "execution_count": null,
   "metadata": {
    "collapsed": true
   },
   "outputs": [],
   "source": []
  },
  {
   "cell_type": "code",
   "execution_count": null,
   "metadata": {
    "collapsed": true
   },
   "outputs": [],
   "source": []
  },
  {
   "cell_type": "code",
   "execution_count": 92,
   "metadata": {
    "collapsed": false
   },
   "outputs": [
    {
     "data": {
      "text/plain": [
       "'first The number is 0. The second number is 1. The third number is 2. The fourth number is 3. And the fifth number is not 5. PPPPPPPPPPPPPPPPPPPP A for apple, b for banana. C for canada, d for deep learning. E for egg, f for far. G for game, h for hello. I for island, finally, j for jamaica! PPPPPPPPPPPPPPPPPPPP Start at the beginning. Continue in the middle. Stop at the end. PPPPPPPPPPPPPPPPPPPP Head, shoulders, knees and toes. Knees and toes. And eyes, and ears, and mouth, and nose. Head, shoulders, knees and toes, Knees and toes. CCCCCCCCCCCCCCCCCCCC '"
      ]
     },
     "execution_count": 92,
     "metadata": {},
     "output_type": "execute_result"
    }
   ],
   "source": [
    "# a._addSentence(0, \"This is added2\")\n",
    "a.getText()"
   ]
  },
  {
   "cell_type": "code",
   "execution_count": 87,
   "metadata": {
    "collapsed": false
   },
   "outputs": [],
   "source": [
    "cleanText = (re.split(\"(\"+ \"PPPPPPPPPPPPPPPPPPPP|CCCCCCCCCCCCCCCCCCCC\"+ \")\", inputText))\n",
    "characters = []\n",
    "for x in cleanText:\n",
    "    if x == \"P\"*20 or x == \"C\"*20:\n",
    "        characters.append(x)\n",
    "    else:\n",
    "        characters.extend(list(x))"
   ]
  },
  {
   "cell_type": "code",
   "execution_count": null,
   "metadata": {
    "collapsed": true
   },
   "outputs": [],
   "source": []
  },
  {
   "cell_type": "code",
   "execution_count": 49,
   "metadata": {
    "collapsed": false
   },
   "outputs": [],
   "source": [
    "characters.insert(3,\"s\")"
   ]
  },
  {
   "cell_type": "code",
   "execution_count": 6,
   "metadata": {
    "collapsed": false
   },
   "outputs": [],
   "source": [
    "# with open(\"A Backward Glance \",\"r\") as f:\n",
    "#     inputText = f.read()\n",
    "# with open(\"A Blue Pantomime \",'r') as f:\n",
    "#     corpus = f.read()\n",
    "# inputText = re.sub(\"\\r?\\n\",' ', inputText).split(\"T\"*20)[1]\n",
    "# corpus = re.sub(\"\\r?\\n\",' ', corpus).split(\"T\"*20)[1]"
   ]
  },
  {
   "cell_type": "code",
   "execution_count": 93,
   "metadata": {
    "collapsed": false
   },
   "outputs": [
    {
     "data": {
      "text/plain": [
       "' The first number is 0. The second number is 1. The third number is 2. The fourth number is 3. And the fifth number is not 5. PPPPPPPPPPPPPPPPPPPP  A for apple, b for banana. C for canada, d for deep learning. E for egg, f for far. G for game, h for hello. I for island, finally, j for jamaica! CCCCCCCCCCCCCCCCCCCC  Start at the beginning. Continue in the middle. Stop at the end.  PPPPPPPPPPPPPPPPPPPP  Head, shoulders, knees and toes. Knees and toes. And eyes, and ears, and mouth, and nose. Head, shoulders, knees and toes, Knees and toes. CCCCCCCCCCCCCCCCCCCC '"
      ]
     },
     "execution_count": 93,
     "metadata": {},
     "output_type": "execute_result"
    }
   ],
   "source": [
    "corpus"
   ]
  },
  {
   "cell_type": "code",
   "execution_count": 87,
   "metadata": {
    "collapsed": false
   },
   "outputs": [],
   "source": [
    "with open(\"example.txt\",\"r\") as f:\n",
    "    inputText = f.read()\n",
    "with open(\"example.txt\",'r') as f:\n",
    "    corpus = f.read()\n",
    "inputText = re.sub(\"\\r?\\n\",' ', inputText).split(\"T\"*20)[1]\n",
    "corpus = re.sub(\"\\r?\\n\",' ', corpus).split(\"T\"*20)[1]"
   ]
  },
  {
   "cell_type": "code",
   "execution_count": 88,
   "metadata": {
    "collapsed": false
   },
   "outputs": [],
   "source": [
    "chapters_corpus = re.split(\"C\"*20, corpus)\n",
    "inputChap_corpus = chapters_corpus[0]\n",
    "paragraphs_corpus = string.join(inputChap_corpus.split(\"C\"*20)).split(\"P\"*20)\n",
    "cleanText_corpus = re.sub(\"C\"*20, \" \", re.sub(\"P\"*20, \" \", inputChap_corpus))\n",
    "sentences_corpus = re.split(\"[\\.!?]\", cleanText_corpus)\n",
    "words_corpus = re.split(\"[\\s\\.,]\", cleanText_corpus)\n",
    "characters_corpus = list(cleanText_corpus)"
   ]
  },
  {
   "cell_type": "code",
   "execution_count": 91,
   "metadata": {
    "collapsed": false
   },
   "outputs": [],
   "source": [
    "chapters = re.split(\"C\"*20, inputText)\n",
    "inputChap = chapters[0]\n",
    "paragraphs = string.join(inputChap.split(\"C\"*20)).split(\"P\"*20)\n",
    "cleanText = re.sub(\"  \", \" \", re.sub(\"C\"*20, \" \", re.sub(\"P\"*20, \" \", inputChap)))\n",
    "sentences = re.split(\"[\\.!?]\", cleanText)\n",
    "words = re.split(\"[\\s\\.,]\", cleanText)\n",
    "characters = list(cleanText)"
   ]
  },
  {
   "cell_type": "code",
   "execution_count": 89,
   "metadata": {
    "collapsed": true
   },
   "outputs": [],
   "source": [
    "def count_chars(inputList):\n",
    "    return map(len, inputList)\n",
    "def count_words(inputList):\n",
    "    return map(lambda x: len(re.split(\"[\\s,]\",x)), inputList)\n",
    "def count_sentences(inputList):\n",
    "    return map(lambda x: len(re.split(\"[!?\\.]\",x)), inputList)\n",
    "def count_paragraphs(inputList):\n",
    "    return map(lambda x: len(re.split(\"P\"*20,x)), inputList)"
   ]
  },
  {
   "cell_type": "code",
   "execution_count": 92,
   "metadata": {
    "collapsed": false
   },
   "outputs": [
    {
     "data": {
      "text/plain": [
       "<matplotlib.text.Text at 0x8155630>"
      ]
     },
     "execution_count": 92,
     "metadata": {},
     "output_type": "execute_result"
    },
    {
     "data": {
      "image/png": "[encoded data removed]",
      "text/plain": [
       "<matplotlib.figure.Figure at 0x7d2e4a8>"
      ]
     },
     "metadata": {},
     "output_type": "display_data"
    }
   ],
   "source": [
    "plt.hist(count_sentences(paragraphs),100)\n",
    "plt.title(\"histogram\")"
   ]
  },
  {
   "cell_type": "code",
   "execution_count": 196,
   "metadata": {
    "collapsed": false
   },
   "outputs": [],
   "source": [
    "# def corruption(level, idx, op, param):\n",
    "#     if level == 'character':\n",
    "#         op(characters[idx], param)\n",
    "#         return string.join(characters)\n",
    "#     elif level == \"word\":\n",
    "#         op(words[idx], param)\n",
    "#         return string.join(words,\" \")\n",
    "#     elif level == \"sentence\":\n",
    "#         op(sentences[idx], param)\n",
    "#         return string.join(sentences,\".\")\n",
    "#     elif level == \"paragraph\":\n",
    "#         op(paragraphs[idx], param)\n",
    "#         return string.join(paragraphs,\".\")\n"
   ]
  },
  {
   "cell_type": "code",
   "execution_count": 197,
   "metadata": {
    "collapsed": false
   },
   "outputs": [
    {
     "ename": "SyntaxError",
     "evalue": "can't assign to lambda (<ipython-input-197-3875211a87f7>, line 1)",
     "output_type": "error",
     "traceback": [
      "\u001b[0;36m  File \u001b[0;32m\"<ipython-input-197-3875211a87f7>\"\u001b[0;36m, line \u001b[0;32m1\u001b[0m\n\u001b[0;31m    op = lambda x: x=\"!!\"\u001b[0m\n\u001b[0;31mSyntaxError\u001b[0m\u001b[0;31m:\u001b[0m can't assign to lambda\n"
     ]
    }
   ],
   "source": [
    "def addElement(level, idx, param):\n",
    "    if level == 'character':\n",
    "        characters.insert(idx, param)\n",
    "    elif level == \"word\":\n",
    "        words.insert(idx, param)\n",
    "    elif level == \"sentence\":\n",
    "        sentences.insert(idx, param)\n",
    "    elif level == \"paragraph\":\n",
    "        paragraphs.insert(idx, param)\n",
    "    \n",
    "def removeElement(level, idx):\n",
    "    if level == 'character':\n",
    "        characters.insert(idx, param)\n",
    "    elif level == \"word\":\n",
    "        words.insert(idx, param)\n",
    "    elif level == \"sentence\":\n",
    "        sentences.insert(idx, param)\n",
    "    elif level == \"paragraph\":\n",
    "        paragraphs.insert(idx, param)\n",
    "    "
   ]
  },
  {
   "cell_type": "code",
   "execution_count": 39,
   "metadata": {
    "collapsed": false
   },
   "outputs": [
    {
     "name": "stdout",
     "output_type": "stream",
     "text": [
      " The first number is 0. The second number is 1. The third number is 2. The fourth number is 3. And the fifth number is not 5. \n",
      "  A for apple, b for banana. C for canada, d for deep learning. E for egg, f for far. G for game, h for hello. I for island, finally, j for jamaica! \n",
      "  Start at the beginning. Continue in the middle. Stop at the end.  \n",
      "  Head, shoulders, knees and toes. Knees and toes. And eyes, and ears, and mouth, and nose. Head, shoulders, knees and toes, Knees and toes. \n"
     ]
    }
   ],
   "source": [
    "for sentence in paragraphs:\n",
    "    print sentence"
   ]
  },
  {
   "cell_type": "code",
   "execution_count": null,
   "metadata": {
    "collapsed": true
   },
   "outputs": [],
   "source": []
  }
 ],
 "metadata": {
  "kernelspec": {
   "display_name": "Python 2",
   "language": "python",
   "name": "python2"
  },
  "language_info": {
   "codemirror_mode": {
    "name": "ipython",
    "version": 2
   },
   "file_extension": ".py",
   "mimetype": "text/x-python",
   "name": "python",
   "nbconvert_exporter": "python",
   "pygments_lexer": "ipython2",
   "version": "2.7.11"
  }
 },
 "nbformat": 4,
 "nbformat_minor": 0
}
