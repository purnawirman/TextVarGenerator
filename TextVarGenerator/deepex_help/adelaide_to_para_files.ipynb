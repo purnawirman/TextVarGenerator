{
 "cells": [
  {
   "cell_type": "code",
   "execution_count": 40,
   "metadata": {
    "collapsed": false
   },
   "outputs": [],
   "source": [
    "import os\n",
    "import re\n",
    "import unidecode\n",
    "def readAll(max):\n",
    "    for filename in os.listdir(u\"./adelaide_ebooks\"):\n",
    "        if max == 0:\n",
    "            break\n",
    "        filepath = u\"./adelaide_ebooks/\" + filename\n",
    "        with open(filepath, \"r\") as f:\n",
    "            data = f.read().split(\"T\"*20)[1]\n",
    "            data = re.sub(\"[\\\"\\'\\\\n]\", \" \", data)\n",
    "            data = re.sub(\"C\"*20, \"P\"*20, data)\n",
    "            for paragraph in data.split(\"P\"*20):\n",
    "                paragraphClean = paragraph.replace('“',\" \").replace('”', \" \") \\\n",
    "                                .replace('’',' ').replace('‘',' ')\n",
    "                for sentences in re.split('[\\.!?]', paragraphClean):\n",
    "                    if len(sentences.strip()) > 5:\n",
    "                        yield sentences.strip() + '.'\n",
    "        if max % 100 == 0:\n",
    "            print -max\n",
    "        max = max - 1"
   ]
  },
  {
   "cell_type": "code",
   "execution_count": 42,
   "metadata": {
    "collapsed": false,
    "scrolled": true
   },
   "outputs": [
    {
     "name": "stdout",
     "output_type": "stream",
     "text": [
      "100\n",
      "200\n",
      "300\n",
      "400\n",
      "500\n",
      "600\n",
      "700\n",
      "800\n",
      "900\n",
      "1000\n",
      "1100\n",
      "1200\n",
      "1300\n",
      "1400\n",
      "1500\n",
      "1600\n",
      "1700\n",
      "1800\n",
      "1900\n",
      "2000\n",
      "2100\n",
      "2200\n",
      "2300\n",
      "2400\n",
      "2500\n",
      "2600\n",
      "2700\n",
      "2800\n",
      "2900\n",
      "3000\n",
      "3100\n",
      "3200\n",
      "3300\n",
      "3400\n",
      "3500\n",
      "3600\n",
      "3700\n",
      "3800\n"
     ]
    }
   ],
   "source": [
    "with open(\"adelaide_sentences.para\", 'w') as f:\n",
    "    for line in readAll(-1):\n",
    "        f.write(line)\n",
    "        f.write('\\r\\n')\n"
   ]
  },
  {
   "cell_type": "code",
   "execution_count": null,
   "metadata": {
    "collapsed": true
   },
   "outputs": [],
   "source": []
  }
 ],
 "metadata": {
  "kernelspec": {
   "display_name": "Python 2",
   "language": "python",
   "name": "python2"
  },
  "language_info": {
   "codemirror_mode": {
    "name": "ipython",
    "version": 2
   },
   "file_extension": ".py",
   "mimetype": "text/x-python",
   "name": "python",
   "nbconvert_exporter": "python",
   "pygments_lexer": "ipython2",
   "version": "2.7.11"
  }
 },
 "nbformat": 4,
 "nbformat_minor": 0
}
