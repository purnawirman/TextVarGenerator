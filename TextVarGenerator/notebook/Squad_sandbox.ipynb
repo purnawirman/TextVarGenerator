{
 "cells": [
  {
   "cell_type": "code",
   "execution_count": 404,
   "metadata": {
    "collapsed": false
   },
   "outputs": [],
   "source": [
    "import sys\n",
    "import getopt\n",
    "from enum import Enum\n",
    "import json\n",
    "import re\n",
    "import bisect\n",
    "import spacy\n",
    "import string\n",
    "import random\n",
    "import matplotlib.pyplot as plt\n",
    "%matplotlib inline\n",
    "# Use Spacy NLP\n",
    "IS_SPACY = True\n",
    "NLP = spacy.load('en')"
   ]
  },
  {
   "cell_type": "code",
   "execution_count": 258,
   "metadata": {
    "collapsed": true
   },
   "outputs": [],
   "source": [
    "# Source of invalid options, whether it is from same passage or random passage\n",
    "CORPUS_TYPE = Enum('CORPUS_TYPE', 'SAME_PASSAGE RANDOM_PASSAGE')\n",
    "# Number of invalid options\n",
    "VARIATION_COUNT = 5\n",
    "# For corpus type of SAME_PASSAGE, if the passage is smaller then\n",
    "# variation count, whether to allow duplicates or not\n",
    "SKIP_SMALL_PASSAGE = False\n",
    "# Whether we allow duplicate or not in the choices\n",
    "ALLOW_DUPLICATE_ANSWER = False\n",
    "# Duplicate for small passage\n",
    "ALLOW_DUPLICATE_FOR_SMALL = True\n",
    "# Boolean for printing meta file\n",
    "IS_META_PRINT = True\n",
    "# QA separator\n",
    "QA_SEPARATOR = \"*\" * 50\n",
    "# Answer choices\n",
    "ANSWER_CHOICES = string.uppercase"
   ]
  },
  {
   "cell_type": "code",
   "execution_count": 21,
   "metadata": {
    "collapsed": true
   },
   "outputs": [],
   "source": [
    "inputJson = json.load(open('train-v1.0.json'))"
   ]
  },
  {
   "cell_type": "code",
   "execution_count": 22,
   "metadata": {
    "collapsed": false
   },
   "outputs": [
    {
     "data": {
      "text/plain": [
       "[u'version', u'data']"
      ]
     },
     "execution_count": 22,
     "metadata": {},
     "output_type": "execute_result"
    }
   ],
   "source": [
    "inputJson.keys()"
   ]
  },
  {
   "cell_type": "code",
   "execution_count": 24,
   "metadata": {
    "collapsed": false
   },
   "outputs": [
    {
     "data": {
      "text/plain": [
       "u'1.0'"
      ]
     },
     "execution_count": 24,
     "metadata": {},
     "output_type": "execute_result"
    }
   ],
   "source": [
    "inputJson['version']"
   ]
  },
  {
   "cell_type": "code",
   "execution_count": 35,
   "metadata": {
    "collapsed": false
   },
   "outputs": [
    {
     "data": {
      "text/plain": [
       "442"
      ]
     },
     "execution_count": 35,
     "metadata": {},
     "output_type": "execute_result"
    }
   ],
   "source": [
    "len(trainJson['data'])"
   ]
  },
  {
   "cell_type": "code",
   "execution_count": 376,
   "metadata": {
    "collapsed": false
   },
   "outputs": [
    {
     "name": "stdout",
     "output_type": "stream",
     "text": [
      "got title\n",
      "got para\n",
      "got qa\n"
     ]
    }
   ],
   "source": [
    "title = 'Rule_of_law'\n",
    "subString = 'the functional interpretation of the term'\n",
    "answerSub = 'little'\n",
    "qa = {}\n",
    "paragraph = {}\n",
    "for document in trainJson['data']:\n",
    "    if title in document['title']:\n",
    "        paragraphs = document['paragraphs']\n",
    "        print \"got title\"\n",
    "        break\n",
    "for paragraph in paragraphs:\n",
    "    if subString in paragraph['context'].lower():\n",
    "        context = paragraph['context']\n",
    "        print \"got para\"\n",
    "        break\n",
    "        \n",
    "for qa in paragraph['qas']:\n",
    "    if answerSub in qa['answers'][0]['text'].lower():\n",
    "        print \"got qa\"\n",
    "        break"
   ]
  },
  {
   "cell_type": "code",
   "execution_count": 377,
   "metadata": {
    "collapsed": false
   },
   "outputs": [
    {
     "data": {
      "text/plain": [
       "{u'answers': [{u'answer_start': 0, u'text': u'little'}],\n",
       " u'id': u'5727c7a7ff5b5019007d950f',\n",
       " u'question': u'What level of discretion do governments with a high degree of the \"rule of law\" have?'}"
      ]
     },
     "execution_count": 377,
     "metadata": {},
     "output_type": "execute_result"
    }
   ],
   "source": [
    "qa"
   ]
  },
  {
   "cell_type": "code",
   "execution_count": 368,
   "metadata": {
    "collapsed": false
   },
   "outputs": [
    {
     "data": {
      "text/plain": [
       "{u'context': u\"The United States Air Force (USAF) is the aerial warfare service branch of the United States Armed Forces and one of the seven American uniformed services. Initially part of the United States Army, the USAF was formed as a separate branch of the military on 18 September 1947 under the National Security Act of 1947. It is the most recent branch of the U.S. military to be formed, and is the largest and one of the world's most technologically advanced air forces. The USAF articulates its core functions as Nuclear Deterrence Operations, Special Operations, Air Superiority, Global Integrated ISR, Space Superiority, Command and Control, Cyberspace Superiority, Personnel Recovery, Global Precision Attack, Building Partnerships, Rapid Global Mobility and Agile Combat Support.\",\n",
       " u'qas': [{u'answers': [{u'answer_start': 38,\n",
       "     u'text': u'the aerial warfare service branch of the United States Armed Forces'}],\n",
       "   u'id': u'5730bbbb8ab72b1400f9c732',\n",
       "   u'question': u'What is the USAF?'},\n",
       "  {u'answers': [{u'answer_start': 0, u'text': u'seven'}],\n",
       "   u'id': u'5730bbbb8ab72b1400f9c733',\n",
       "   u'question': u'How many uniformed services are there in the United States?'},\n",
       "  {u'answers': [{u'answer_start': 137, u'text': u'18 September 1947'}],\n",
       "   u'id': u'5730bbbb8ab72b1400f9c734',\n",
       "   u'question': u'When did the USAF split from the US Army?'},\n",
       "  {u'answers': [{u'answer_start': 165,\n",
       "     u'text': u'National Security Act of 1947'}],\n",
       "   u'id': u'5730bbbb8ab72b1400f9c735',\n",
       "   u'question': u'What act formed the USAF?'},\n",
       "  {u'answers': [{u'answer_start': 387,\n",
       "     u'text': u'Nuclear Deterrence Operations'}],\n",
       "   u'id': u'5730bbbb8ab72b1400f9c736',\n",
       "   u'question': u'What is one of the functions of the USAF?'}]}"
      ]
     },
     "execution_count": 368,
     "metadata": {},
     "output_type": "execute_result"
    }
   ],
   "source": [
    "paragraph"
   ]
  },
  {
   "cell_type": "code",
   "execution_count": 374,
   "metadata": {
    "collapsed": false
   },
   "outputs": [
    {
     "data": {
      "text/plain": [
       "u'initially part of the united states army, the usaf was formed as a separate branch of the military on 18 september 1947 under the national security act of 1947'"
      ]
     },
     "execution_count": 374,
     "metadata": {},
     "output_type": "execute_result"
    }
   ],
   "source": [
    "findSentence(context, 200)"
   ]
  },
  {
   "cell_type": "code",
   "execution_count": 297,
   "metadata": {
    "collapsed": false
   },
   "outputs": [
    {
     "data": {
      "text/plain": [
       "u'The College of Engineering was established in 1920, however, early courses in civil and mechanical engineering were a part of the College of Science since the 1870s. Today the college, housed in the Fitzpatrick, Cushing, and Stinson-Remick Halls of Engineering, includes five departments of study \\u2013 aerospace and mechanical engineering, chemical and biomolecular engineering, civil engineering and geological sciences, computer science and engineering, and electrical engineering \\u2013 with eight B.S. degrees offered. Additionally, the college offers five-year dual degree programs with the Colleges of Arts and Letters and of Business awarding additional B.A. and Master of Business Administration (MBA) degrees, respectively.'"
      ]
     },
     "execution_count": 297,
     "metadata": {},
     "output_type": "execute_result"
    }
   ],
   "source": [
    "paragraph['context']"
   ]
  },
  {
   "cell_type": "code",
   "execution_count": 298,
   "metadata": {
    "collapsed": false
   },
   "outputs": [
    {
     "data": {
      "text/plain": [
       "u'The College of Engineering was established in 1920, however, early courses in civil and mechanical engineering were a part of the College of Science since the 1870s. Today the college, housed in the Fitzpatrick, Cushing, and Stinson-Remick Halls of Engineering, includes five departments of study \\u2013. aerospace and mechanical engineering, chemical and biomolecular engineering, civil engineering and geological sciences, computer science and engineering, and electrical engineering \\u2013 with eight B_S_ degrees offered. Additionally, the college offers five-year dual degree programs with the Colleges of Arts and Letters and of Business awarding additional B_A_ and Master of Business Administration (MBA) degrees, respectively.'"
      ]
     },
     "execution_count": 298,
     "metadata": {},
     "output_type": "execute_result"
    }
   ],
   "source": [
    "parseBySpacy(paragraph['context'])"
   ]
  },
  {
   "cell_type": "code",
   "execution_count": null,
   "metadata": {
    "collapsed": true
   },
   "outputs": [],
   "source": []
  },
  {
   "cell_type": "code",
   "execution_count": null,
   "metadata": {
    "collapsed": true
   },
   "outputs": [],
   "source": []
  },
  {
   "cell_type": "code",
   "execution_count": 386,
   "metadata": {
    "collapsed": false,
    "scrolled": false
   },
   "outputs": [
    {
     "name": "stdout",
     "output_type": "stream",
     "text": [
      "u'Hunter-gathering lifestyles remained prevalent in some parts of the New World, Sub-Saharan Africa, and Siberia, as well as all of Australia, until the European Age of Discovery. They still persist in some tribal societies, albeit in rapid decline. Peoples that preserved paleolithic hunting-gathering until the recent past include some indigenous peoples of the Amazonas (Ach\\xe9), some Central and Southern African (San people), some peoples of New Guinea (Fayu), the Mlabri of Thailand and Laos, the Vedda people of Sri Lanka, and a handful of uncontacted peoples. In Africa, the only remaining full-time hunter-gatherers are the Hadza of Tanzania.[citation needed]'\n"
     ]
    }
   ],
   "source": [
    "pprint.pprint(trainJson['data'][440]['paragraphs'][3]['context'])\n"
   ]
  },
  {
   "cell_type": "code",
   "execution_count": 44,
   "metadata": {
    "collapsed": false
   },
   "outputs": [
    {
     "data": {
      "text/plain": [
       "u'tri-city\". According to the 2011 census, Kathmandu Metropolitan City has a population of 975,453 and measures 49.45\\xa0km2 (19.09\\xa0sq\\xa0mi).'"
      ]
     },
     "execution_count": 44,
     "metadata": {},
     "output_type": "execute_result"
    }
   ],
   "source": [
    "trainJson['data'][441]['paragraphs'][0]['context'][615:]"
   ]
  },
  {
   "cell_type": "code",
   "execution_count": 108,
   "metadata": {
    "collapsed": true
   },
   "outputs": [],
   "source": [
    "def findSentence(context, index):\n",
    "    sentences = re.split('[.!?]', context)\n",
    "    accuLengthList = [0]\n",
    "    for sentence in sentences:\n",
    "        accuLengthList.append(len(sentence) + accuLengthList[-1] + 1)\n",
    "    rightSentence = sentences[bisect.bisect(accuLengthList, index) - 1]\n",
    "    return rightSentence.lower().strip()"
   ]
  },
  {
   "cell_type": "code",
   "execution_count": 110,
   "metadata": {
    "collapsed": false
   },
   "outputs": [
    {
     "data": {
      "text/plain": [
       "u'according to the 2011 census, kathmandu metropolitan city has a population of 975,453 and measures 49'"
      ]
     },
     "execution_count": 110,
     "metadata": {},
     "output_type": "execute_result"
    }
   ],
   "source": [
    "findSentence(trainJson['data'][441]['paragraphs'][0]['context'], 725)"
   ]
  },
  {
   "cell_type": "code",
   "execution_count": 103,
   "metadata": {
    "collapsed": false
   },
   "outputs": [
    {
     "data": {
      "text/plain": [
       "u\". It also hosts the headquarters of the South Asian Association for Regional Cooperation (SAARC). It is the only city of Nepal with the administrative status of Mahanagar (Metropolitan City), as compared to Upa-Mahanagar (Sub-Metropolitan City) or Nagar (City). Kathmandu is the core of Nepal's largest urban agglomeration located in the Kathmandu Valley consisting of Lalitpur, Kirtipur, Madhyapur Thimi, Bhaktapur and a number of smaller communities.\""
      ]
     },
     "execution_count": 103,
     "metadata": {},
     "output_type": "execute_result"
    }
   ],
   "source": [
    "trainJson['data'][441]['paragraphs'][0]['context'][110:562]"
   ]
  },
  {
   "cell_type": "code",
   "execution_count": 259,
   "metadata": {
    "collapsed": true
   },
   "outputs": [],
   "source": [
    "def generateSolutions(context, rightSentence):\n",
    "    answers = []\n",
    "    sentences = re.split('[.!?]', context)\n",
    "    sentences = [sentence.strip().lower() for sentence in sentences if len(sentence) > 0]\n",
    "    isPassageSmall = len(sentences) < VARIATION_COUNT + 1\n",
    "    if SKIP_SMALL_PASSAGE and isPassageSmall:\n",
    "        print \"Warning, not enough sentences for same passage options\"\n",
    "        return None\n",
    "    correctChoice = ANSWER_CHOICES[random.randint(0, VARIATION_COUNT)]\n",
    "    sentences.remove(rightSentence)\n",
    "\n",
    "    for choice in ANSWER_CHOICES[0:VARIATION_COUNT + 1]:\n",
    "        if choice == correctChoice:\n",
    "            answers.extend([\"*\", choice, ')', rightSentence, '\\n'])\n",
    "        else:\n",
    "            wrongIdx = random.randint(0, len(sentences) - 1)\n",
    "            wrongSentence = sentences[wrongIdx]\n",
    "            answers.extend([choice, ')', wrongSentence, '\\n'])\n",
    "            if ALLOW_DUPLICATE_FOR_SMALL and isPassageSmall:\n",
    "                continue\n",
    "            elif not ALLOW_DUPLICATE_ANSWER:\n",
    "                sentences.remove(wrongSentence)\n",
    "    return ''.join(answers)"
   ]
  },
  {
   "cell_type": "code",
   "execution_count": 227,
   "metadata": {
    "collapsed": false
   },
   "outputs": [
    {
     "data": {
      "text/plain": [
       "u'kathmandu(/\\u02cck\\u0251\\u02d0tm\\u0251\\u02d0n\\u02c8du\\u02d0/; nepali pronunciation: [k\\u0251\\u0288\\u02b0m\\u0251\\u0273\\u0256u]) is the capital and largest municipality of nepal. it also hosts the headquarters of the south asian association for regional cooperation (saarc). it is the only city of nepal with the administrative status of mahanagar (metropolitan city), as compared to upa-mahanagar (sub-metropolitan city) or nagar (city). kathmandu is the core of nepal\\'s largest urban agglomeration located in the kathmandu valley consisting of lalitpur, kirtipur, madhyapur thimi, bhaktapur and a number of smaller communities. kathmandu is also known informally as \"ktm\" or the \"tri-city\". according to the 2011 census, kathmandu metropolitan city has a population of 975,453 and measures 49_45\\xa0km2 (19_09\\xa0sq\\xa0mi).'"
      ]
     },
     "execution_count": 227,
     "metadata": {},
     "output_type": "execute_result"
    }
   ],
   "source": [
    "context"
   ]
  },
  {
   "cell_type": "code",
   "execution_count": null,
   "metadata": {
    "collapsed": true
   },
   "outputs": [],
   "source": []
  },
  {
   "cell_type": "code",
   "execution_count": 303,
   "metadata": {
    "collapsed": false
   },
   "outputs": [],
   "source": [
    "def parseBySpacy(context):\n",
    "    doc = NLP(context, parse=True)\n",
    "    document = []\n",
    "    for sent in doc.sents:\n",
    "        sentence = re.sub('\\.', '_', sent.string.strip())\n",
    "        if sentence[-1] == '_':\n",
    "            sentence = sentence[:-1] + '.'\n",
    "        if sentence[-1] != '.':\n",
    "            sentence += '.'\n",
    "        document.append(sentence)\n",
    "    document = ' '.join(document)\n",
    "    if len(context) != len(document):\n",
    "        print \"Warning, spacy may have parsed the wrong sentences\"\n",
    "        print repr(document)\n",
    "        print len(document)\n",
    "        return None\n",
    "    return document"
   ]
  },
  {
   "cell_type": "code",
   "execution_count": 304,
   "metadata": {
    "collapsed": false
   },
   "outputs": [
    {
     "name": "stdout",
     "output_type": "stream",
     "text": [
      "Warning, spacy may have parsed the wrong sentences\n",
      "u'The College of Engineering was established in 1920, however, early courses in civil and mechanical engineering were a part of the College of Science since the 1870s. Today the college, housed in the Fitzpatrick, Cushing, and Stinson-Remick Halls of Engineering, includes five departments of study \\u2013. aerospace and mechanical engineering, chemical and biomolecular engineering, civil engineering and geological sciences, computer science and engineering, and electrical engineering \\u2013 with eight B_S_ degrees offered. Additionally, the college offers five-year dual degree programs with the Colleges of Arts and Letters and of Business awarding additional B_A_ and Master of Business Administration (MBA) degrees, respectively.'\n",
      "725\n"
     ]
    }
   ],
   "source": [
    "(parseBySpacy(paragraph['context']))"
   ]
  },
  {
   "cell_type": "code",
   "execution_count": 306,
   "metadata": {
    "collapsed": false
   },
   "outputs": [
    {
     "data": {
      "text/plain": [
       "u'The College of Engineering was established in 1920, however, early courses in civil and mechanical engineering were a part of the College of Science since the 1870s. Today the college, housed in the Fitzpatrick, Cushing, and Stinson-Remick Halls of Engineering, includes five departments of study \\u2013 aerospace and mechanical engineering, chemical and biomolecular engineering, civil engineering and geological sciences, computer science and engineering, and electrical engineering \\u2013 with eight B.S. degrees offered. Additionally, the college offers five-year dual degree programs with the Colleges of Arts and Letters and of Business awarding additional B.A. and Master of Business Administration (MBA) degrees, respectively.'"
      ]
     },
     "execution_count": 306,
     "metadata": {},
     "output_type": "execute_result"
    }
   ],
   "source": [
    "(paragraph['context'])"
   ]
  },
  {
   "cell_type": "code",
   "execution_count": 171,
   "metadata": {
    "collapsed": false
   },
   "outputs": [],
   "source": [
    "originalContext = trainJson['data'][441]['paragraphs'][0]['context']\n",
    "if IS_SPACY:\n",
    "    context = parseBySpacy(originalContext)\n",
    "else:\n",
    "    context = originalContext\n",
    "context = context.lower()\n",
    "rightSentence = findSentence(context, 725)"
   ]
  },
  {
   "cell_type": "code",
   "execution_count": 283,
   "metadata": {
    "collapsed": false
   },
   "outputs": [
    {
     "data": {
      "text/plain": [
       "u'kathmandu(/\\u02cck\\u0251\\u02d0tm\\u0251\\u02d0n\\u02c8du\\u02d0/; nepali pronunciation: [k\\u0251\\u0288\\u02b0m\\u0251\\u0273\\u0256u]) is the capital and largest municipality of nepal. it also hosts the headquarters of the south asian association for regional cooperation (saarc). it is the only city of nepal with the administrative status of mahanagar (metropolitan city), as compared to upa-mahanagar (sub-metropolitan city) or nagar (city). kathmandu is the core of nepal\\'s largest urban agglomeration located in the kathmandu valley consisting of lalitpur, kirtipur, madhyapur thimi, bhaktapur and a number of smaller communities. kathmandu is also known informally as \"ktm\" or the \"tri-city\". according to the 2011 census, kathmandu metropolitan city has a population of 975,453 and measures 49_45\\xa0km2 (19_09\\xa0sq\\xa0mi).'"
      ]
     },
     "execution_count": 283,
     "metadata": {},
     "output_type": "execute_result"
    }
   ],
   "source": [
    "context"
   ]
  },
  {
   "cell_type": "code",
   "execution_count": 174,
   "metadata": {
    "collapsed": false
   },
   "outputs": [
    {
     "data": {
      "text/plain": [
       "u'according to the 2011 census, kathmandu metropolitan city has a population of 975,453 and measures 49_45\\xa0km2 (19_09\\xa0sq\\xa0mi)'"
      ]
     },
     "execution_count": 174,
     "metadata": {},
     "output_type": "execute_result"
    }
   ],
   "source": [
    "rightSentence"
   ]
  },
  {
   "cell_type": "code",
   "execution_count": 387,
   "metadata": {
    "collapsed": false
   },
   "outputs": [],
   "source": [
    "import json"
   ]
  },
  {
   "cell_type": "code",
   "execution_count": 417,
   "metadata": {
    "collapsed": false
   },
   "outputs": [],
   "source": [
    "data = json.load(open('packet_variation.json', 'r'))"
   ]
  },
  {
   "cell_type": "code",
   "execution_count": 427,
   "metadata": {
    "collapsed": false
   },
   "outputs": [
    {
     "data": {
      "text/plain": [
       "[(((4, u'3018.0'), 5), u'1467077528559'),\n",
       " (((4, u'4137.0'), 10), u'1467077529356'),\n",
       " (((4, u'4547.0'), 15), u'1467077530278'),\n",
       " (((4, u'4537.0'), 20), u'1467077531075'),\n",
       " (((4, u'4537.0'), 25), u'1467077531887'),\n",
       " (((4, u'5050.0'), 30), u'1467077532684'),\n",
       " (((9, u'2666.0'), 5), u'1467077533513'),\n",
       " (((9, u'3027.0'), 10), u'1467077534325'),\n",
       " (((9, u'3248.0'), 15), u'1467077535185'),\n",
       " (((9, u'3258.0'), 20), u'1467077535997'),\n",
       " (((9, u'3021.0'), 25), u'1467077536794'),\n",
       " (((9, u'3020.0'), 30), u'1467077537591'),\n",
       " (((14, u'2170.0'), 5), u'1467077538451'),\n",
       " (((14, u'2164.0'), 10), u'1467077539263'),\n",
       " (((14, u'2393.0'), 15), u'1467077540122'),\n",
       " (((14, u'2269.0'), 20), u'1467077540919'),\n",
       " (((14, u'2388.0'), 25), u'1467077541716'),\n",
       " (((14, u'2388.0'), 30), u'1467077542513'),\n",
       " (((19, u'1817.0'), 5), u'1467077543310'),\n",
       " (((19, u'1818.0'), 10), u'1467077544138'),\n",
       " (((19, u'1813.0'), 15), u'1467077544920'),\n",
       " (((19, u'1816.0'), 20), u'1467077545748'),\n",
       " (((19, u'1890.0'), 25), u'1467077546529'),\n",
       " (((19, u'1974.0'), 30), u'1467077547341'),\n",
       " (((24, u'1512.0'), 5), u'1467077548138'),\n",
       " (((24, u'1509.0'), 10), u'1467077548920'),\n",
       " (((24, u'1565.0'), 15), u'1467077549732'),\n",
       " (((24, u'1563.0'), 20), u'1467077550529'),\n",
       " (((24, u'1563.0'), 25), u'1467077551326'),\n",
       " (((24, u'1562.0'), 30), u'1467077552139'),\n",
       " (((29, u'1259.0'), 5), u'1467077552951'),\n",
       " (((29, u'1297.0'), 10), u'1467077553779'),\n",
       " (((29, u'1194.0'), 15), u'1467077554576'),\n",
       " (((29, u'1334.0'), 20), u'1467077555357'),\n",
       " (((29, u'1334.0'), 25), u'1467077556217'),\n",
       " (((29, u'1375.0'), 30), u'1467077557045')]"
      ]
     },
     "execution_count": 427,
     "metadata": {},
     "output_type": "execute_result"
    }
   ],
   "source": [
    "zip(zip(zip(variationCount, pps), batchSize), [id['id'] for id in data['jobs']])"
   ]
  },
  {
   "cell_type": "code",
   "execution_count": 418,
   "metadata": {
    "collapsed": false
   },
   "outputs": [],
   "source": [
    "pps = [x['pps'] for x in data['jobs']]\n",
    "variationCount = [x['config']['variationCount'] for x in data['jobs']]\n",
    "batchSize = [x['config']['batchSize'] for x in data['jobs']]"
   ]
  },
  {
   "cell_type": "code",
   "execution_count": 423,
   "metadata": {
    "collapsed": false
   },
   "outputs": [
    {
     "data": {
      "text/plain": [
       "[((4, u'3018.0'), 5),\n",
       " ((4, u'4137.0'), 10),\n",
       " ((4, u'4547.0'), 15),\n",
       " ((4, u'4537.0'), 20),\n",
       " ((4, u'4537.0'), 25),\n",
       " ((4, u'5050.0'), 30),\n",
       " ((9, u'2666.0'), 5),\n",
       " ((9, u'3027.0'), 10),\n",
       " ((9, u'3248.0'), 15),\n",
       " ((9, u'3258.0'), 20),\n",
       " ((9, u'3021.0'), 25),\n",
       " ((9, u'3020.0'), 30),\n",
       " ((14, u'2170.0'), 5),\n",
       " ((14, u'2164.0'), 10),\n",
       " ((14, u'2393.0'), 15),\n",
       " ((14, u'2269.0'), 20),\n",
       " ((14, u'2388.0'), 25),\n",
       " ((14, u'2388.0'), 30),\n",
       " ((19, u'1817.0'), 5),\n",
       " ((19, u'1818.0'), 10),\n",
       " ((19, u'1813.0'), 15),\n",
       " ((19, u'1816.0'), 20),\n",
       " ((19, u'1890.0'), 25),\n",
       " ((19, u'1974.0'), 30),\n",
       " ((24, u'1512.0'), 5),\n",
       " ((24, u'1509.0'), 10),\n",
       " ((24, u'1565.0'), 15),\n",
       " ((24, u'1563.0'), 20),\n",
       " ((24, u'1563.0'), 25),\n",
       " ((24, u'1562.0'), 30),\n",
       " ((29, u'1259.0'), 5),\n",
       " ((29, u'1297.0'), 10),\n",
       " ((29, u'1194.0'), 15),\n",
       " ((29, u'1334.0'), 20),\n",
       " ((29, u'1334.0'), 25),\n",
       " ((29, u'1375.0'), 30)]"
      ]
     },
     "execution_count": 423,
     "metadata": {},
     "output_type": "execute_result"
    }
   ],
   "source": [
    "zip(zip(variationCount, pps), batchSize)"
   ]
  },
  {
   "cell_type": "code",
   "execution_count": 421,
   "metadata": {
    "collapsed": false
   },
   "outputs": [
    {
     "data": {
      "text/plain": [
       "<matplotlib.text.Text at 0x2d5b07b8>"
      ]
     },
     "execution_count": 421,
     "metadata": {},
     "output_type": "execute_result"
    },
    {
     "data": {
      "image/png": "[encoded data removed]",
      "text/plain": [
       "<matplotlib.figure.Figure at 0x7c896b00>"
      ]
     },
     "metadata": {},
     "output_type": "display_data"
    }
   ],
   "source": [
    "plt.scatter(variationCount, pps)\n",
    "plt.xlabel('Variation Count')\n",
    "plt.ylabel('PPS')"
   ]
  },
  {
   "cell_type": "code",
   "execution_count": 420,
   "metadata": {
    "collapsed": false
   },
   "outputs": [
    {
     "data": {
      "text/plain": [
       "<matplotlib.collections.PathCollection at 0x3dd96828>"
      ]
     },
     "execution_count": 420,
     "metadata": {},
     "output_type": "execute_result"
    },
    {
     "data": {
      "image/png": "[encoded data removed]",
      "text/plain": [
       "<matplotlib.figure.Figure at 0x32a14e10>"
      ]
     },
     "metadata": {},
     "output_type": "display_data"
    }
   ],
   "source": [
    "plt.scatter(batchSize, pps)"
   ]
  },
  {
   "cell_type": "code",
   "execution_count": null,
   "metadata": {
    "collapsed": true
   },
   "outputs": [],
   "source": []
  }
 ],
 "metadata": {
  "kernelspec": {
   "display_name": "Python 2",
   "language": "python",
   "name": "python2"
  },
  "language_info": {
   "codemirror_mode": {
    "name": "ipython",
    "version": 2
   },
   "file_extension": ".py",
   "mimetype": "text/x-python",
   "name": "python",
   "nbconvert_exporter": "python",
   "pygments_lexer": "ipython2",
   "version": "2.7.11"
  }
 },
 "nbformat": 4,
 "nbformat_minor": 0
}
