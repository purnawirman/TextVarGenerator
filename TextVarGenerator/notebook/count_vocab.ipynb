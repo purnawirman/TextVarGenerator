{
 "cells": [
  {
   "cell_type": "code",
   "execution_count": 1,
   "metadata": {
    "collapsed": false
   },
   "outputs": [],
   "source": [
    "import os\n",
    "import re\n",
    "import pandas as pd\n",
    "import matplotlib.pyplot as plt\n",
    "import numpy as np\n",
    "%matplotlib inline\n",
    "import spacy\n",
    "NLP = spacy.load('en')"
   ]
  },
  {
   "cell_type": "code",
   "execution_count": 2,
   "metadata": {
    "collapsed": true
   },
   "outputs": [],
   "source": [
    "INPUT_FOLDER = './log_alpha_statistics/'\n",
    "SWAP_REGEX = '\\\"SwappedWords:(\\d+)\\\"$'"
   ]
  },
  {
   "cell_type": "code",
   "execution_count": 3,
   "metadata": {
    "collapsed": false
   },
   "outputs": [],
   "source": [
    "def addToDict(dictionary, word):\n",
    "    if word not in dictionary:\n",
    "        dictionary[word] = 1\n",
    "    else:\n",
    "        dictionary[word] += 1   "
   ]
  },
  {
   "cell_type": "code",
   "execution_count": 4,
   "metadata": {
    "collapsed": true
   },
   "outputs": [],
   "source": [
    "def parseSwappedId(max, folder = INPUT_FOLDER):\n",
    "    for filename in os.listdir(folder):\n",
    "        if max == 0:\n",
    "            break\n",
    "        filepath = folder + filename\n",
    "        with open(filepath, \"r\") as f:\n",
    "            for line in f:\n",
    "                matcher = re.search(SWAP_REGEX, line)\n",
    "                if matcher is not None:\n",
    "                    yield matcher.group(1)\n",
    "        if max % 2 == 0:\n",
    "            print -max,\n",
    "        max = max - 1"
   ]
  },
  {
   "cell_type": "code",
   "execution_count": 5,
   "metadata": {
    "collapsed": false
   },
   "outputs": [
    {
     "name": "stdout",
     "output_type": "stream",
     "text": [
      "2 4 6 8 10 12 14\n"
     ]
    }
   ],
   "source": [
    "replacedRandom = {}\n",
    "for wordID in parseSwappedId(-1):\n",
    "    addToDict(replacedRandom, wordID)"
   ]
  },
  {
   "cell_type": "code",
   "execution_count": 6,
   "metadata": {
    "collapsed": false
   },
   "outputs": [
    {
     "name": "stdout",
     "output_type": "stream",
     "text": [
      " From sentence drop random...\n",
      "                word  wcount\n",
      "165925  445063888896       1\n",
      "165924  283836940288       1\n",
      "165923  442959396864       1\n",
      "165922  251419164672       1\n",
      "165921  138007281664       1\n",
      "165920   45953843200       1\n",
      "165919   76835454976       1\n",
      "165918  223447351296       1\n",
      "165946  224175063040       1\n",
      "497781   73640443904       1\n",
      "                word  wcount\n",
      "0       309685387264       1\n",
      "331862   21091057665       1\n",
      "331861  459206033408       1\n",
      "331860  448929988608       1\n",
      "331859  186867777536       1\n",
      "331858  134351945728       1\n",
      "331857  263347765248       1\n",
      "331856   30475812865       1\n",
      "331855   16946036736       1\n",
      "331854  191771967488       1\n"
     ]
    },
    {
     "data": {
      "text/plain": [
       "<matplotlib.text.Text at 0x7ac2f320>"
      ]
     },
     "execution_count": 6,
     "metadata": {},
     "output_type": "execute_result"
    },
    {
     "data": {
      "image/png": "[encoded data removed]",
      "text/plain": [
       "<matplotlib.figure.Figure at 0x78c452e8>"
      ]
     },
     "metadata": {},
     "output_type": "display_data"
    }
   ],
   "source": [
    "replacedRandomDf = pd.DataFrame.from_dict(replacedRandom.items())\n",
    "replacedRandomDf.columns = ['word', 'wcount']\n",
    "print \" From sentence drop random...\"\n",
    "print replacedRandomDf.sort_values('wcount').tail(10)\n",
    "print replacedRandomDf.sort_values('wcount').head(10)\n",
    "fig = plt.figure\n",
    "ax = plt.scatter((range(len(replacedRandomDf) + 1, 1, -1)), \n",
    "                 np.log(replacedRandomDf.sort_values('wcount').wcount), \n",
    "                 label = 'Sherlock Holmes Middle' )\n",
    "plt.title(\"Zipf's law\")\n",
    "plt.legend()\n",
    "plt.ylabel('(log) Word frequency')\n",
    "plt.xlabel('Rank')"
   ]
  },
  {
   "cell_type": "code",
   "execution_count": 7,
   "metadata": {
    "collapsed": false
   },
   "outputs": [
    {
     "name": "stdout",
     "output_type": "stream",
     "text": [
      " From sentence drop random...\n",
      "                word  wcount\n",
      "165925  445063888896       1\n",
      "165924  283836940288       1\n",
      "165923  442959396864       1\n",
      "165922  251419164672       1\n",
      "165921  138007281664       1\n",
      "165920   45953843200       1\n",
      "165919   76835454976       1\n",
      "165918  223447351296       1\n",
      "165946  224175063040       1\n",
      "497781   73640443904       1\n",
      "                word  wcount\n",
      "0       309685387264       1\n",
      "331862   21091057665       1\n",
      "331861  459206033408       1\n",
      "331860  448929988608       1\n",
      "331859  186867777536       1\n",
      "331858  134351945728       1\n",
      "331857  263347765248       1\n",
      "331856   30475812865       1\n",
      "331855   16946036736       1\n",
      "331854  191771967488       1\n"
     ]
    },
    {
     "data": {
      "text/plain": [
       "<matplotlib.text.Text at 0x7b196048>"
      ]
     },
     "execution_count": 7,
     "metadata": {},
     "output_type": "execute_result"
    },
    {
     "data": {
      "image/png": "[encoded data removed]",
      "text/plain": [
       "<matplotlib.figure.Figure at 0x7c9ecf98>"
      ]
     },
     "metadata": {},
     "output_type": "display_data"
    }
   ],
   "source": [
    "replacedRandomDf = pd.DataFrame.from_dict(replacedRandom.items())\n",
    "replacedRandomDf.columns = ['word', 'wcount']\n",
    "print \" From sentence drop random...\"\n",
    "print replacedRandomDf.sort_values('wcount').tail(10)\n",
    "print replacedRandomDf.sort_values('wcount').head(10)\n",
    "fig = plt.figure\n",
    "ax = plt.scatter(np.log(range(len(replacedRandomDf) + 1, 1, -1)), \n",
    "                 np.log(replacedRandomDf.sort_values('wcount').wcount), \n",
    "                 label = 'Sherlock Holmes Random' )\n",
    "plt.title(\"Zipf's law\")\n",
    "plt.legend()\n",
    "plt.ylabel('(log) Word frequency')\n",
    "plt.xlabel('(log) Rank')"
   ]
  },
  {
   "cell_type": "code",
   "execution_count": 54,
   "metadata": {
    "collapsed": true
   },
   "outputs": [],
   "source": [
    "import spacy"
   ]
  },
  {
   "cell_type": "code",
   "execution_count": 57,
   "metadata": {
    "collapsed": false
   },
   "outputs": [],
   "source": [
    "NLP = spacy.load('en')"
   ]
  },
  {
   "cell_type": "code",
   "execution_count": 60,
   "metadata": {
    "collapsed": false
   },
   "outputs": [
    {
     "data": {
      "text/plain": [
       "1"
      ]
     },
     "execution_count": 60,
     "metadata": {},
     "output_type": "execute_result"
    }
   ],
   "source": [
    "NLP.is_stop('the')"
   ]
  },
  {
   "cell_type": "code",
   "execution_count": 8,
   "metadata": {
    "collapsed": true
   },
   "outputs": [],
   "source": [
    "from enum import Enum\n",
    "\n",
    "CORPUS_TYPE = Enum('CORPUS_TYPE', 'SAME_PASSAGE RANDOM_PASSAGE')\n",
    "\n"
   ]
  },
  {
   "cell_type": "code",
   "execution_count": 13,
   "metadata": {
    "collapsed": false
   },
   "outputs": [
    {
     "data": {
      "text/plain": [
       "<CORPUS_TYPE.RANDOM_PASSAGE: 2>"
      ]
     },
     "execution_count": 13,
     "metadata": {},
     "output_type": "execute_result"
    }
   ],
   "source": [
    "CORPUS_TYPE.RANDOM_PASSAGE"
   ]
  },
  {
   "cell_type": "code",
   "execution_count": null,
   "metadata": {
    "collapsed": true
   },
   "outputs": [],
   "source": []
  }
 ],
 "metadata": {
  "kernelspec": {
   "display_name": "Python 2",
   "language": "python",
   "name": "python2"
  },
  "language_info": {
   "codemirror_mode": {
    "name": "ipython",
    "version": 2
   },
   "file_extension": ".py",
   "mimetype": "text/x-python",
   "name": "python",
   "nbconvert_exporter": "python",
   "pygments_lexer": "ipython2",
   "version": "2.7.11"
  }
 },
 "nbformat": 4,
 "nbformat_minor": 0
}
