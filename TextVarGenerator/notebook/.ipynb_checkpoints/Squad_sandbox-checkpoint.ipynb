{
 "cells": [
  {
   "cell_type": "code",
   "execution_count": 141,
   "metadata": {
    "collapsed": true
   },
   "outputs": [],
   "source": [
    "import sys\n",
    "import getopt\n",
    "from enum import Enum\n",
    "import json\n",
    "import re\n",
    "import bisect\n",
    "import spacy\n",
    "import string\n",
    "import random\n",
    "# Use Spacy NLP\n",
    "IS_SPACY = True\n",
    "NLP = spacy.load('en')"
   ]
  },
  {
   "cell_type": "code",
   "execution_count": 258,
   "metadata": {
    "collapsed": true
   },
   "outputs": [],
   "source": [
    "# Source of invalid options, whether it is from same passage or random passage\n",
    "CORPUS_TYPE = Enum('CORPUS_TYPE', 'SAME_PASSAGE RANDOM_PASSAGE')\n",
    "# Number of invalid options\n",
    "VARIATION_COUNT = 5\n",
    "# For corpus type of SAME_PASSAGE, if the passage is smaller then\n",
    "# variation count, whether to allow duplicates or not\n",
    "SKIP_SMALL_PASSAGE = False\n",
    "# Whether we allow duplicate or not in the choices\n",
    "ALLOW_DUPLICATE_ANSWER = False\n",
    "# Duplicate for small passage\n",
    "ALLOW_DUPLICATE_FOR_SMALL = True\n",
    "# Boolean for printing meta file\n",
    "IS_META_PRINT = True\n",
    "# QA separator\n",
    "QA_SEPARATOR = \"*\" * 50\n",
    "# Answer choices\n",
    "ANSWER_CHOICES = string.uppercase"
   ]
  },
  {
   "cell_type": "code",
   "execution_count": 21,
   "metadata": {
    "collapsed": true
   },
   "outputs": [],
   "source": [
    "inputJson = json.load(open('train-v1.0.json'))"
   ]
  },
  {
   "cell_type": "code",
   "execution_count": 22,
   "metadata": {
    "collapsed": false
   },
   "outputs": [
    {
     "data": {
      "text/plain": [
       "[u'version', u'data']"
      ]
     },
     "execution_count": 22,
     "metadata": {},
     "output_type": "execute_result"
    }
   ],
   "source": [
    "inputJson.keys()"
   ]
  },
  {
   "cell_type": "code",
   "execution_count": 24,
   "metadata": {
    "collapsed": false
   },
   "outputs": [
    {
     "data": {
      "text/plain": [
       "u'1.0'"
      ]
     },
     "execution_count": 24,
     "metadata": {},
     "output_type": "execute_result"
    }
   ],
   "source": [
    "inputJson['version']"
   ]
  },
  {
   "cell_type": "code",
   "execution_count": 35,
   "metadata": {
    "collapsed": false
   },
   "outputs": [
    {
     "data": {
      "text/plain": [
       "442"
      ]
     },
     "execution_count": 35,
     "metadata": {},
     "output_type": "execute_result"
    }
   ],
   "source": [
    "len(trainJson['data'])"
   ]
  },
  {
   "cell_type": "code",
   "execution_count": 317,
   "metadata": {
    "collapsed": false
   },
   "outputs": [],
   "source": [
    "title = 'Police'\n",
    "subString = 'as conceptualized by the'\n",
    "\n",
    "for document in trainJson['data']:\n",
    "    if document['title'] == title:\n",
    "        paragraphs = document['paragraphs']\n",
    "for paragraph in paragraphs:\n",
    "    if subString in paragraph['context']:\n",
    "        context = paragraph['context']\n",
    "        break\n",
    "\n",
    "for qa in paragraph['qas']:\n",
    "    if \"duck\" in qa['answers'][0]['text']:\n",
    "        break"
   ]
  },
  {
   "cell_type": "code",
   "execution_count": 318,
   "metadata": {
    "collapsed": false
   },
   "outputs": [
    {
     "data": {
      "text/plain": [
       "{u'answers': [{u'answer_start': 0, u'text': u'duck '}],\n",
       " u'id': u'57345070879d6814001ca4f7',\n",
       " u'question': u'What kind of stamp is required to hunt migratory waterfowl?'}"
      ]
     },
     "execution_count": 318,
     "metadata": {},
     "output_type": "execute_result"
    }
   ],
   "source": [
    "qa"
   ]
  },
  {
   "cell_type": "code",
   "execution_count": 319,
   "metadata": {
    "collapsed": false
   },
   "outputs": [
    {
     "data": {
      "text/plain": [
       "{u'context': u'Hunting big game typically requires a \"tag\" for each animal harvested. Tags must be purchased in addition to the hunting license, and the number of tags issued to an individual is typically limited. In cases where there are more prospective hunters than the quota for that species, tags are usually assigned by lottery. Tags may be further restricted to a specific area, or wildlife management unit. Hunting migratory waterfowl requires a duck stamp from the Fish and Wildlife Service in addition to the appropriate state hunting license.',\n",
       " u'qas': [{u'answers': [{u'answer_start': 36,\n",
       "     u'text': u'a \"tag\" for each animal harvested'}],\n",
       "   u'id': u'57345070879d6814001ca4f3',\n",
       "   u'question': u'What is required when hunting big game?'},\n",
       "  {u'answers': [{u'answer_start': 109, u'text': u'the hunting license'}],\n",
       "   u'id': u'57345070879d6814001ca4f4',\n",
       "   u'question': u'Tags are purchased in addition to what?'},\n",
       "  {u'answers': [{u'answer_start': 138, u'text': u'number of tags issued'}],\n",
       "   u'id': u'57345070879d6814001ca4f5',\n",
       "   u'question': u'What is typically limited to an individual?'},\n",
       "  {u'answers': [{u'answer_start': 320, u'text': u'Tags '}],\n",
       "   u'id': u'57345070879d6814001ca4f6',\n",
       "   u'question': u'A wildlife management unit is a place where what may be restricted to?'},\n",
       "  {u'answers': [{u'answer_start': 0, u'text': u'duck '}],\n",
       "   u'id': u'57345070879d6814001ca4f7',\n",
       "   u'question': u'What kind of stamp is required to hunt migratory waterfowl?'},\n",
       "  {u'answers': [{u'answer_start': 39, u'text': u'tag'}],\n",
       "   u'id': u'573610e1012e2f140011a17f',\n",
       "   u'question': u'When hunting big game what is typically required?'},\n",
       "  {u'answers': [{u'answer_start': 71, u'text': u'Tags'}],\n",
       "   u'id': u'573610e1012e2f140011a180',\n",
       "   u'question': u'What must be purchased with hunting license is comes in a limited number?'},\n",
       "  {u'answers': [{u'answer_start': 308, u'text': u'by lottery'}],\n",
       "   u'id': u'573610e1012e2f140011a181',\n",
       "   u'question': u'How are tags assigned if there are more hunters than game?'},\n",
       "  {u'answers': [{u'answer_start': 439, u'text': u'duck stamp'}],\n",
       "   u'id': u'573610e1012e2f140011a182',\n",
       "   u'question': u'What is required of hunting migratory waterfowl?'},\n",
       "  {u'answers': [{u'answer_start': 459, u'text': u'Fish and Wildlife Service'}],\n",
       "   u'id': u'573610e1012e2f140011a183',\n",
       "   u'question': u'Who issues requirement for hunting migratory waterfowl?'}]}"
      ]
     },
     "execution_count": 319,
     "metadata": {},
     "output_type": "execute_result"
    }
   ],
   "source": [
    "paragraph"
   ]
  },
  {
   "cell_type": "code",
   "execution_count": null,
   "metadata": {
    "collapsed": true
   },
   "outputs": [],
   "source": []
  },
  {
   "cell_type": "code",
   "execution_count": null,
   "metadata": {
    "collapsed": true
   },
   "outputs": [],
   "source": []
  },
  {
   "cell_type": "code",
   "execution_count": 297,
   "metadata": {
    "collapsed": false
   },
   "outputs": [
    {
     "data": {
      "text/plain": [
       "u'The College of Engineering was established in 1920, however, early courses in civil and mechanical engineering were a part of the College of Science since the 1870s. Today the college, housed in the Fitzpatrick, Cushing, and Stinson-Remick Halls of Engineering, includes five departments of study \\u2013 aerospace and mechanical engineering, chemical and biomolecular engineering, civil engineering and geological sciences, computer science and engineering, and electrical engineering \\u2013 with eight B.S. degrees offered. Additionally, the college offers five-year dual degree programs with the Colleges of Arts and Letters and of Business awarding additional B.A. and Master of Business Administration (MBA) degrees, respectively.'"
      ]
     },
     "execution_count": 297,
     "metadata": {},
     "output_type": "execute_result"
    }
   ],
   "source": [
    "paragraph['context']"
   ]
  },
  {
   "cell_type": "code",
   "execution_count": 298,
   "metadata": {
    "collapsed": false
   },
   "outputs": [
    {
     "data": {
      "text/plain": [
       "u'The College of Engineering was established in 1920, however, early courses in civil and mechanical engineering were a part of the College of Science since the 1870s. Today the college, housed in the Fitzpatrick, Cushing, and Stinson-Remick Halls of Engineering, includes five departments of study \\u2013. aerospace and mechanical engineering, chemical and biomolecular engineering, civil engineering and geological sciences, computer science and engineering, and electrical engineering \\u2013 with eight B_S_ degrees offered. Additionally, the college offers five-year dual degree programs with the Colleges of Arts and Letters and of Business awarding additional B_A_ and Master of Business Administration (MBA) degrees, respectively.'"
      ]
     },
     "execution_count": 298,
     "metadata": {},
     "output_type": "execute_result"
    }
   ],
   "source": [
    "parseBySpacy(paragraph['context'])"
   ]
  },
  {
   "cell_type": "code",
   "execution_count": null,
   "metadata": {
    "collapsed": true
   },
   "outputs": [],
   "source": []
  },
  {
   "cell_type": "code",
   "execution_count": null,
   "metadata": {
    "collapsed": true
   },
   "outputs": [],
   "source": []
  },
  {
   "cell_type": "code",
   "execution_count": 40,
   "metadata": {
    "collapsed": false
   },
   "outputs": [
    {
     "name": "stdout",
     "output_type": "stream",
     "text": [
      "{u'context': u'Kathmandu(/\\u02cck\\u0251\\u02d0tm\\u0251\\u02d0n\\u02c8du\\u02d0/; Nepali pronunciation: [k\\u0251\\u0288\\u02b0m\\u0251\\u0273\\u0256u]) is the capital and largest municipality of Nepal. It also hosts the headquarters of the South Asian Association for Regional Cooperation (SAARC). It is the only city of Nepal with the administrative status of Mahanagar (Metropolitan City), as compared to Upa-Mahanagar (Sub-Metropolitan City) or Nagar (City). Kathmandu is the core of Nepal\\'s largest urban agglomeration located in the Kathmandu Valley consisting of Lalitpur, Kirtipur, Madhyapur Thimi, Bhaktapur and a number of smaller communities. Kathmandu is also known informally as \"KTM\" or the \"tri-city\". According to the 2011 census, Kathmandu Metropolitan City has a population of 975,453 and measures 49.45\\xa0km2 (19.09\\xa0sq\\xa0mi).',\n",
      " u'qas': [{u'answers': [{u'answer_start': 105, u'text': u'Nepal'}],\n",
      "           u'id': u'57359bbcdc94161900571ee9',\n",
      "           u'question': u'What country is Kathmandu the capital of?'},\n",
      "          {u'answers': [{u'answer_start': 332,\n",
      "                         u'text': u'Sub-Metropolitan City'}],\n",
      "           u'id': u'57359bbcdc94161900571eea',\n",
      "           u'question': u'What does Upa-Mahanagar mean in English?'},\n",
      "          {u'answers': [{u'answer_start': 615, u'text': u'tri-city'}],\n",
      "           u'id': u'57359bbcdc94161900571eeb',\n",
      "           u'question': u'Along with \"KTM,\" what is another nickname of Kathmandu?'},\n",
      "          {u'answers': [{u'answer_start': 704, u'text': u'975,453'}],\n",
      "           u'id': u'57359bbcdc94161900571eec',\n",
      "           u'question': u'How many people lived in Kathmandu in 2011?'},\n",
      "          {u'answers': [{u'answer_start': 725, u'text': u'49.45'}],\n",
      "           u'id': u'57359bbcdc94161900571eed',\n",
      "           u'question': u'How many square kilometers in size is Kathmandu?'}]}\n"
     ]
    }
   ],
   "source": [
    "pprint.pprint(trainJson['data'][441]['paragraphs'][0])\n"
   ]
  },
  {
   "cell_type": "code",
   "execution_count": 44,
   "metadata": {
    "collapsed": false
   },
   "outputs": [
    {
     "data": {
      "text/plain": [
       "u'tri-city\". According to the 2011 census, Kathmandu Metropolitan City has a population of 975,453 and measures 49.45\\xa0km2 (19.09\\xa0sq\\xa0mi).'"
      ]
     },
     "execution_count": 44,
     "metadata": {},
     "output_type": "execute_result"
    }
   ],
   "source": [
    "trainJson['data'][441]['paragraphs'][0]['context'][615:]"
   ]
  },
  {
   "cell_type": "code",
   "execution_count": 108,
   "metadata": {
    "collapsed": true
   },
   "outputs": [],
   "source": [
    "def findSentence(context, index):\n",
    "    sentences = re.split('[.!?]', context)\n",
    "    accuLengthList = [0]\n",
    "    for sentence in sentences:\n",
    "        accuLengthList.append(len(sentence) + accuLengthList[-1] + 1)\n",
    "    rightSentence = sentences[bisect.bisect(accuLengthList, index) - 1]\n",
    "    return rightSentence.lower().strip()"
   ]
  },
  {
   "cell_type": "code",
   "execution_count": 110,
   "metadata": {
    "collapsed": false
   },
   "outputs": [
    {
     "data": {
      "text/plain": [
       "u'according to the 2011 census, kathmandu metropolitan city has a population of 975,453 and measures 49'"
      ]
     },
     "execution_count": 110,
     "metadata": {},
     "output_type": "execute_result"
    }
   ],
   "source": [
    "findSentence(trainJson['data'][441]['paragraphs'][0]['context'], 725)"
   ]
  },
  {
   "cell_type": "code",
   "execution_count": 103,
   "metadata": {
    "collapsed": false
   },
   "outputs": [
    {
     "data": {
      "text/plain": [
       "u\". It also hosts the headquarters of the South Asian Association for Regional Cooperation (SAARC). It is the only city of Nepal with the administrative status of Mahanagar (Metropolitan City), as compared to Upa-Mahanagar (Sub-Metropolitan City) or Nagar (City). Kathmandu is the core of Nepal's largest urban agglomeration located in the Kathmandu Valley consisting of Lalitpur, Kirtipur, Madhyapur Thimi, Bhaktapur and a number of smaller communities.\""
      ]
     },
     "execution_count": 103,
     "metadata": {},
     "output_type": "execute_result"
    }
   ],
   "source": [
    "trainJson['data'][441]['paragraphs'][0]['context'][110:562]"
   ]
  },
  {
   "cell_type": "code",
   "execution_count": 259,
   "metadata": {
    "collapsed": true
   },
   "outputs": [],
   "source": [
    "def generateSolutions(context, rightSentence):\n",
    "    answers = []\n",
    "    sentences = re.split('[.!?]', context)\n",
    "    sentences = [sentence.strip().lower() for sentence in sentences if len(sentence) > 0]\n",
    "    isPassageSmall = len(sentences) < VARIATION_COUNT + 1\n",
    "    if SKIP_SMALL_PASSAGE and isPassageSmall:\n",
    "        print \"Warning, not enough sentences for same passage options\"\n",
    "        return None\n",
    "    correctChoice = ANSWER_CHOICES[random.randint(0, VARIATION_COUNT)]\n",
    "    sentences.remove(rightSentence)\n",
    "\n",
    "    for choice in ANSWER_CHOICES[0:VARIATION_COUNT + 1]:\n",
    "        if choice == correctChoice:\n",
    "            answers.extend([\"*\", choice, ')', rightSentence, '\\n'])\n",
    "        else:\n",
    "            wrongIdx = random.randint(0, len(sentences) - 1)\n",
    "            wrongSentence = sentences[wrongIdx]\n",
    "            answers.extend([choice, ')', wrongSentence, '\\n'])\n",
    "            if ALLOW_DUPLICATE_FOR_SMALL and isPassageSmall:\n",
    "                continue\n",
    "            elif not ALLOW_DUPLICATE_ANSWER:\n",
    "                sentences.remove(wrongSentence)\n",
    "    return ''.join(answers)"
   ]
  },
  {
   "cell_type": "code",
   "execution_count": 227,
   "metadata": {
    "collapsed": false
   },
   "outputs": [
    {
     "data": {
      "text/plain": [
       "u'kathmandu(/\\u02cck\\u0251\\u02d0tm\\u0251\\u02d0n\\u02c8du\\u02d0/; nepali pronunciation: [k\\u0251\\u0288\\u02b0m\\u0251\\u0273\\u0256u]) is the capital and largest municipality of nepal. it also hosts the headquarters of the south asian association for regional cooperation (saarc). it is the only city of nepal with the administrative status of mahanagar (metropolitan city), as compared to upa-mahanagar (sub-metropolitan city) or nagar (city). kathmandu is the core of nepal\\'s largest urban agglomeration located in the kathmandu valley consisting of lalitpur, kirtipur, madhyapur thimi, bhaktapur and a number of smaller communities. kathmandu is also known informally as \"ktm\" or the \"tri-city\". according to the 2011 census, kathmandu metropolitan city has a population of 975,453 and measures 49_45\\xa0km2 (19_09\\xa0sq\\xa0mi).'"
      ]
     },
     "execution_count": 227,
     "metadata": {},
     "output_type": "execute_result"
    }
   ],
   "source": [
    "context"
   ]
  },
  {
   "cell_type": "code",
   "execution_count": null,
   "metadata": {
    "collapsed": true
   },
   "outputs": [],
   "source": []
  },
  {
   "cell_type": "code",
   "execution_count": 303,
   "metadata": {
    "collapsed": false
   },
   "outputs": [],
   "source": [
    "def parseBySpacy(context):\n",
    "    doc = NLP(context, parse=True)\n",
    "    document = []\n",
    "    for sent in doc.sents:\n",
    "        sentence = re.sub('\\.', '_', sent.string.strip())\n",
    "        if sentence[-1] == '_':\n",
    "            sentence = sentence[:-1] + '.'\n",
    "        if sentence[-1] != '.':\n",
    "            sentence += '.'\n",
    "        document.append(sentence)\n",
    "    document = ' '.join(document)\n",
    "    if len(context) != len(document):\n",
    "        print \"Warning, spacy may have parsed the wrong sentences\"\n",
    "        print repr(document)\n",
    "        print len(document)\n",
    "        return None\n",
    "    return document"
   ]
  },
  {
   "cell_type": "code",
   "execution_count": 304,
   "metadata": {
    "collapsed": false
   },
   "outputs": [
    {
     "name": "stdout",
     "output_type": "stream",
     "text": [
      "Warning, spacy may have parsed the wrong sentences\n",
      "u'The College of Engineering was established in 1920, however, early courses in civil and mechanical engineering were a part of the College of Science since the 1870s. Today the college, housed in the Fitzpatrick, Cushing, and Stinson-Remick Halls of Engineering, includes five departments of study \\u2013. aerospace and mechanical engineering, chemical and biomolecular engineering, civil engineering and geological sciences, computer science and engineering, and electrical engineering \\u2013 with eight B_S_ degrees offered. Additionally, the college offers five-year dual degree programs with the Colleges of Arts and Letters and of Business awarding additional B_A_ and Master of Business Administration (MBA) degrees, respectively.'\n",
      "725\n"
     ]
    }
   ],
   "source": [
    "(parseBySpacy(paragraph['context']))"
   ]
  },
  {
   "cell_type": "code",
   "execution_count": 306,
   "metadata": {
    "collapsed": false
   },
   "outputs": [
    {
     "data": {
      "text/plain": [
       "u'The College of Engineering was established in 1920, however, early courses in civil and mechanical engineering were a part of the College of Science since the 1870s. Today the college, housed in the Fitzpatrick, Cushing, and Stinson-Remick Halls of Engineering, includes five departments of study \\u2013 aerospace and mechanical engineering, chemical and biomolecular engineering, civil engineering and geological sciences, computer science and engineering, and electrical engineering \\u2013 with eight B.S. degrees offered. Additionally, the college offers five-year dual degree programs with the Colleges of Arts and Letters and of Business awarding additional B.A. and Master of Business Administration (MBA) degrees, respectively.'"
      ]
     },
     "execution_count": 306,
     "metadata": {},
     "output_type": "execute_result"
    }
   ],
   "source": [
    "(paragraph['context'])"
   ]
  },
  {
   "cell_type": "code",
   "execution_count": 171,
   "metadata": {
    "collapsed": false
   },
   "outputs": [],
   "source": [
    "originalContext = trainJson['data'][441]['paragraphs'][0]['context']\n",
    "if IS_SPACY:\n",
    "    context = parseBySpacy(originalContext)\n",
    "else:\n",
    "    context = originalContext\n",
    "context = context.lower()\n",
    "rightSentence = findSentence(context, 725)"
   ]
  },
  {
   "cell_type": "code",
   "execution_count": 283,
   "metadata": {
    "collapsed": false
   },
   "outputs": [
    {
     "data": {
      "text/plain": [
       "u'kathmandu(/\\u02cck\\u0251\\u02d0tm\\u0251\\u02d0n\\u02c8du\\u02d0/; nepali pronunciation: [k\\u0251\\u0288\\u02b0m\\u0251\\u0273\\u0256u]) is the capital and largest municipality of nepal. it also hosts the headquarters of the south asian association for regional cooperation (saarc). it is the only city of nepal with the administrative status of mahanagar (metropolitan city), as compared to upa-mahanagar (sub-metropolitan city) or nagar (city). kathmandu is the core of nepal\\'s largest urban agglomeration located in the kathmandu valley consisting of lalitpur, kirtipur, madhyapur thimi, bhaktapur and a number of smaller communities. kathmandu is also known informally as \"ktm\" or the \"tri-city\". according to the 2011 census, kathmandu metropolitan city has a population of 975,453 and measures 49_45\\xa0km2 (19_09\\xa0sq\\xa0mi).'"
      ]
     },
     "execution_count": 283,
     "metadata": {},
     "output_type": "execute_result"
    }
   ],
   "source": [
    "context"
   ]
  },
  {
   "cell_type": "code",
   "execution_count": 174,
   "metadata": {
    "collapsed": false
   },
   "outputs": [
    {
     "data": {
      "text/plain": [
       "u'according to the 2011 census, kathmandu metropolitan city has a population of 975,453 and measures 49_45\\xa0km2 (19_09\\xa0sq\\xa0mi)'"
      ]
     },
     "execution_count": 174,
     "metadata": {},
     "output_type": "execute_result"
    }
   ],
   "source": [
    "rightSentence"
   ]
  },
  {
   "cell_type": "code",
   "execution_count": 310,
   "metadata": {
    "collapsed": false
   },
   "outputs": [
    {
     "ename": "ValueError",
     "evalue": "empty range for randrange() (0,0, 0)",
     "output_type": "error",
     "traceback": [
      "\u001b[1;31m---------------------------------------------------------------------------\u001b[0m",
      "\u001b[1;31mValueError\u001b[0m                                Traceback (most recent call last)",
      "\u001b[1;32m<ipython-input-310-ffa535a0e83a>\u001b[0m in \u001b[0;36m<module>\u001b[1;34m()\u001b[0m\n\u001b[1;32m----> 1\u001b[1;33m \u001b[0mrandom\u001b[0m\u001b[1;33m.\u001b[0m\u001b[0mrandint\u001b[0m\u001b[1;33m(\u001b[0m\u001b[1;36m0\u001b[0m\u001b[1;33m,\u001b[0m\u001b[1;33m-\u001b[0m\u001b[1;36m1\u001b[0m\u001b[1;33m)\u001b[0m\u001b[1;33m\u001b[0m\u001b[0m\n\u001b[0m",
      "\u001b[1;32mC:\\Anaconda2\\lib\\random.pyc\u001b[0m in \u001b[0;36mrandint\u001b[1;34m(self, a, b)\u001b[0m\n\u001b[0;32m    240\u001b[0m         \"\"\"\n\u001b[0;32m    241\u001b[0m \u001b[1;33m\u001b[0m\u001b[0m\n\u001b[1;32m--> 242\u001b[1;33m         \u001b[1;32mreturn\u001b[0m \u001b[0mself\u001b[0m\u001b[1;33m.\u001b[0m\u001b[0mrandrange\u001b[0m\u001b[1;33m(\u001b[0m\u001b[0ma\u001b[0m\u001b[1;33m,\u001b[0m \u001b[0mb\u001b[0m\u001b[1;33m+\u001b[0m\u001b[1;36m1\u001b[0m\u001b[1;33m)\u001b[0m\u001b[1;33m\u001b[0m\u001b[0m\n\u001b[0m\u001b[0;32m    243\u001b[0m \u001b[1;33m\u001b[0m\u001b[0m\n\u001b[0;32m    244\u001b[0m     def _randbelow(self, n, _log=_log, _int=int, _maxwidth=1L<<BPF,\n",
      "\u001b[1;32mC:\\Anaconda2\\lib\\random.pyc\u001b[0m in \u001b[0;36mrandrange\u001b[1;34m(self, start, stop, step, _int, _maxwidth)\u001b[0m\n\u001b[0;32m    216\u001b[0m             \u001b[1;32mreturn\u001b[0m \u001b[0m_int\u001b[0m\u001b[1;33m(\u001b[0m\u001b[0mistart\u001b[0m \u001b[1;33m+\u001b[0m \u001b[0m_int\u001b[0m\u001b[1;33m(\u001b[0m\u001b[0mself\u001b[0m\u001b[1;33m.\u001b[0m\u001b[0mrandom\u001b[0m\u001b[1;33m(\u001b[0m\u001b[1;33m)\u001b[0m\u001b[1;33m*\u001b[0m\u001b[0mwidth\u001b[0m\u001b[1;33m)\u001b[0m\u001b[1;33m)\u001b[0m\u001b[1;33m\u001b[0m\u001b[0m\n\u001b[0;32m    217\u001b[0m         \u001b[1;32mif\u001b[0m \u001b[0mstep\u001b[0m \u001b[1;33m==\u001b[0m \u001b[1;36m1\u001b[0m\u001b[1;33m:\u001b[0m\u001b[1;33m\u001b[0m\u001b[0m\n\u001b[1;32m--> 218\u001b[1;33m             \u001b[1;32mraise\u001b[0m \u001b[0mValueError\u001b[0m\u001b[1;33m,\u001b[0m \u001b[1;34m\"empty range for randrange() (%d,%d, %d)\"\u001b[0m \u001b[1;33m%\u001b[0m \u001b[1;33m(\u001b[0m\u001b[0mistart\u001b[0m\u001b[1;33m,\u001b[0m \u001b[0mistop\u001b[0m\u001b[1;33m,\u001b[0m \u001b[0mwidth\u001b[0m\u001b[1;33m)\u001b[0m\u001b[1;33m\u001b[0m\u001b[0m\n\u001b[0m\u001b[0;32m    219\u001b[0m \u001b[1;33m\u001b[0m\u001b[0m\n\u001b[0;32m    220\u001b[0m         \u001b[1;31m# Non-unit step argument supplied.\u001b[0m\u001b[1;33m\u001b[0m\u001b[1;33m\u001b[0m\u001b[0m\n",
      "\u001b[1;31mValueError\u001b[0m: empty range for randrange() (0,0, 0)"
     ]
    }
   ],
   "source": [
    "random.randint(0,-1)"
   ]
  },
  {
   "cell_type": "code",
   "execution_count": null,
   "metadata": {
    "collapsed": true
   },
   "outputs": [],
   "source": []
  }
 ],
 "metadata": {
  "kernelspec": {
   "display_name": "Python 2",
   "language": "python",
   "name": "python2"
  },
  "language_info": {
   "codemirror_mode": {
    "name": "ipython",
    "version": 2
   },
   "file_extension": ".py",
   "mimetype": "text/x-python",
   "name": "python",
   "nbconvert_exporter": "python",
   "pygments_lexer": "ipython2",
   "version": "2.7.11"
  }
 },
 "nbformat": 4,
 "nbformat_minor": 0
}
