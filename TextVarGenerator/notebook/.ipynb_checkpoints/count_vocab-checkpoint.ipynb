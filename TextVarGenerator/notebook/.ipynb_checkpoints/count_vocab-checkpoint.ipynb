{
 "cells": [
  {
   "cell_type": "code",
   "execution_count": 39,
   "metadata": {
    "collapsed": false
   },
   "outputs": [],
   "source": [
    "import os\n",
    "import re\n",
    "import pandas as pd\n",
    "import matplotlib.pyplot as plt\n",
    "import numpy as np\n",
    "%matplotlib inline"
   ]
  },
  {
   "cell_type": "code",
   "execution_count": 4,
   "metadata": {
    "collapsed": true
   },
   "outputs": [],
   "source": [
    "INPUT_FOLDER = './log_alpha_statistics/'\n",
    "SWAP_REGEX = '\\\"SwappedWords:(\\d+)\\\"$'"
   ]
  },
  {
   "cell_type": "code",
   "execution_count": 12,
   "metadata": {
    "collapsed": false
   },
   "outputs": [],
   "source": [
    "def addToDict(dictionary, word):\n",
    "    if word not in dictionary:\n",
    "        dictionary[word] = 1\n",
    "    else:\n",
    "        dictionary[word] += 1   "
   ]
  },
  {
   "cell_type": "code",
   "execution_count": 29,
   "metadata": {
    "collapsed": true
   },
   "outputs": [],
   "source": [
    "def parseSwappedId(max, folder = INPUT_FOLDER):\n",
    "    for filename in os.listdir(folder):\n",
    "        if max == 0:\n",
    "            break\n",
    "        filepath = folder + filename\n",
    "        with open(filepath, \"r\") as f:\n",
    "            for line in f:\n",
    "                matcher = re.search(SWAP_REGEX, line)\n",
    "                if matcher is not None:\n",
    "                    yield matcher.group(1)\n",
    "        if max % 2 == 0:\n",
    "            print -max,\n",
    "        max = max - 1"
   ]
  },
  {
   "cell_type": "code",
   "execution_count": 49,
   "metadata": {
    "collapsed": false
   },
   "outputs": [
    {
     "name": "stdout",
     "output_type": "stream",
     "text": [
      "2 4 6 8 10 12 14 16 18\n"
     ]
    }
   ],
   "source": [
    "replacedRandom = {}\n",
    "for wordID in parseSwappedId(-1):\n",
    "    addToDict(replacedRandom, wordID)"
   ]
  },
  {
   "cell_type": "code",
   "execution_count": null,
   "metadata": {
    "collapsed": true
   },
   "outputs": [],
   "source": [
    "replacedRandomDf = pd.DataFrame.from_dict(replacedRandom.items())\n",
    "replacedRandomDf.columns = ['word', 'wcount']\n",
    "print \" From sentence drop random...\"\n",
    "print replacedRandomDf.sort_values('wcount').tail(10)\n",
    "print replacedRandomDf.sort_values('wcount').head(10)\n",
    "fig = plt.figure\n",
    "ax = plt.scatter(np.log(range(len(replacedRandomDf) + 1, 1, -1)), \n",
    "                 np.log(replacedRandomDf.sort_values('wcount').wcount), \n",
    "                 label = 'Sherlock Holmes Middle' )\n",
    "plt.title(\"Zipf's law\")\n",
    "plt.legend()\n",
    "plt.ylabel('(log) Word frequency')\n",
    "plt.xlabel('(log) Rank')"
   ]
  },
  {
   "cell_type": "code",
   "execution_count": 48,
   "metadata": {
    "collapsed": false
   },
   "outputs": [
    {
     "name": "stdout",
     "output_type": "stream",
     "text": [
      " From sentence drop random...\n",
      "                       word  wcount\n",
      "30917  18275757850004215929   10227\n",
      "28599  17329376483965162939   10250\n",
      "29242   1281171839461231428   10708\n",
      "34139   2198238665815837780   11014\n",
      "22900   1470962114145956559   12467\n",
      "6725    4583940579936437913   12477\n",
      "22648  14520047133943660821   13736\n",
      "20946    381542255788841013   14569\n",
      "30651   6063724350225825159   18149\n",
      "34351  17732633175761829385   26321\n",
      "                       word  wcount\n",
      "34631  15047712422246513581       1\n",
      "14464   3884551057693556274       1\n",
      "14462  17841743276862232588       1\n",
      "27591   6034622714948384069       1\n",
      "14460  18234538685188504008       1\n",
      "14459  11136133473438204538       1\n",
      "14458   6397738067527506672       1\n",
      "27593    424918048397657132       1\n",
      "14456   8466125873009161630       1\n",
      "14454  14092459327451735861       1\n"
     ]
    },
    {
     "data": {
      "text/plain": [
       "<matplotlib.text.Text at 0xbbbd860>"
      ]
     },
     "execution_count": 48,
     "metadata": {},
     "output_type": "execute_result"
    },
    {
     "data": {
      "image/png": "[encoded data removed]",
      "text/plain": [
       "<matplotlib.figure.Figure at 0xa42c828>"
      ]
     },
     "metadata": {},
     "output_type": "display_data"
    }
   ],
   "source": [
    "replacedRandomDf = pd.DataFrame.from_dict(replacedRandom.items())\n",
    "replacedRandomDf.columns = ['word', 'wcount']\n",
    "print \" From sentence drop random...\"\n",
    "print replacedRandomDf.sort_values('wcount').tail(10)\n",
    "print replacedRandomDf.sort_values('wcount').head(10)\n",
    "fig = plt.figure\n",
    "ax = plt.scatter(np.log(range(len(replacedRandomDf) + 1, 1, -1)), \n",
    "                 np.log(replacedRandomDf.sort_values('wcount').wcount), \n",
    "                 label = 'Sherlock Holmes Random' )\n",
    "plt.title(\"Zipf's law\")\n",
    "plt.legend()\n",
    "plt.ylabel('(log) Word frequency')\n",
    "plt.xlabel('(log) Rank')"
   ]
  },
  {
   "cell_type": "code",
   "execution_count": null,
   "metadata": {
    "collapsed": true
   },
   "outputs": [],
   "source": []
  }
 ],
 "metadata": {
  "kernelspec": {
   "display_name": "Python 2",
   "language": "python",
   "name": "python2"
  },
  "language_info": {
   "codemirror_mode": {
    "name": "ipython",
    "version": 2
   },
   "file_extension": ".py",
   "mimetype": "text/x-python",
   "name": "python",
   "nbconvert_exporter": "python",
   "pygments_lexer": "ipython2",
   "version": "2.7.11"
  }
 },
 "nbformat": 4,
 "nbformat_minor": 0
}
