{
 "cells": [
  {
   "cell_type": "code",
   "execution_count": 177,
   "metadata": {
    "collapsed": false
   },
   "outputs": [],
   "source": [
    "import re\n",
    "import string\n",
    "import matplotlib\n",
    "import matplotlib.pyplot as plt\n",
    "%matplotlib inline\n",
    "\n",
    "import seaborn as sns\n",
    "sns.set_context(\"talk\")\n",
    "sns.set_style(\"white\")"
   ]
  },
  {
   "cell_type": "code",
   "execution_count": 202,
   "metadata": {
    "collapsed": false
   },
   "outputs": [
    {
     "data": {
      "text/plain": [
       "u'/Users/purnawirman/Projects/TextVarGenerator/TextVarGenerator/bin/Debug'"
      ]
     },
     "execution_count": 202,
     "metadata": {},
     "output_type": "execute_result"
    }
   ],
   "source": [
    "pwd"
   ]
  },
  {
   "cell_type": "code",
   "execution_count": 178,
   "metadata": {
    "collapsed": false
   },
   "outputs": [],
   "source": [
    "with open(\"A Backward Glance \",\"r\") as f:\n",
    "    inputText = f.read()\n",
    "with open(\"A Blue Pantomime \",'r') as f:\n",
    "    corpus = f.read()\n",
    "inputText = re.sub(\"\\r?\\n\",' ', inputText).split(\"T\"*20)[1]\n",
    "corpus = re.sub(\"\\r?\\n\",' ', corpus).split(\"T\"*20)[1]"
   ]
  },
  {
   "cell_type": "code",
   "execution_count": 189,
   "metadata": {
    "collapsed": false
   },
   "outputs": [],
   "source": [
    "chapters_corpus = re.split(\"C\"*20, corpus)\n",
    "inputChap_corpus = chapters_corpus[3]\n",
    "paragraphs_corpus = string.join(inputChap_corpus.split(\"C\"*20)).split(\"P\"*20)\n",
    "cleanText_corpus = re.sub(\"C\"*20, \".\", re.sub(\"P\"*20, \".\", inputChap_corpus))\n",
    "sentences_corpus = re.split(\"[\\.!?]\", cleanText_corpus)\n",
    "words_corpus = re.split(\"[\\s\\.,]\", cleanText_corpus)\n",
    "characters_corpus = list(cleanText_corpus)"
   ]
  },
  {
   "cell_type": "code",
   "execution_count": 184,
   "metadata": {
    "collapsed": false
   },
   "outputs": [],
   "source": [
    "chapters = re.split(\"C\"*20, inputText)\n",
    "inputChap = chapters[15]\n",
    "paragraphs = string.join(inputChap.split(\"C\"*20)).split(\"P\"*20)\n",
    "cleanText = re.sub(\"C\"*20, \".\", re.sub(\"P\"*20, \".\", inputChap))\n",
    "sentences = re.split(\"[\\.!?]\", cleanText)\n",
    "words = re.split(\"[\\s\\.,]\", cleanText)\n",
    "characters = list(cleanText)"
   ]
  },
  {
   "cell_type": "code",
   "execution_count": 185,
   "metadata": {
    "collapsed": true
   },
   "outputs": [],
   "source": [
    "def count_chars(inputList):\n",
    "    return map(len, inputList)\n",
    "def count_words(inputList):\n",
    "    return map(lambda x: len(re.split(\"[\\s,]\",x)), inputList)\n",
    "def count_sentences(inputList):\n",
    "    return map(lambda x: len(re.split(\"[!?\\.]\",x)), inputList)\n",
    "def count_paragraphs(inputList):\n",
    "    return map(lambda x: len(re.split(\"P\"*20,x)), inputList)"
   ]
  },
  {
   "cell_type": "code",
   "execution_count": 186,
   "metadata": {
    "collapsed": false
   },
   "outputs": [
    {
     "data": {
      "text/plain": [
       "<matplotlib.text.Text at 0x1261dc450>"
      ]
     },
     "execution_count": 186,
     "metadata": {},
     "output_type": "execute_result"
    },
    {
     "data": {
      "image/png": "[encoded data removed]",
      "text/plain": [
       "<matplotlib.figure.Figure at 0x10612ae10>"
      ]
     },
     "metadata": {},
     "output_type": "display_data"
    }
   ],
   "source": [
    "plt.hist(count_sentences(paragraphs),100)\n",
    "plt.title(\"histogram\")"
   ]
  },
  {
   "cell_type": "code",
   "execution_count": 196,
   "metadata": {
    "collapsed": false
   },
   "outputs": [],
   "source": [
    "# def corruption(level, idx, op, param):\n",
    "#     if level == 'character':\n",
    "#         op(characters[idx], param)\n",
    "#         return string.join(characters)\n",
    "#     elif level == \"word\":\n",
    "#         op(words[idx], param)\n",
    "#         return string.join(words,\" \")\n",
    "#     elif level == \"sentence\":\n",
    "#         op(sentences[idx], param)\n",
    "#         return string.join(sentences,\".\")\n",
    "#     elif level == \"paragraph\":\n",
    "#         op(paragraphs[idx], param)\n",
    "#         return string.join(paragraphs,\".\")\n"
   ]
  },
  {
   "cell_type": "code",
   "execution_count": 197,
   "metadata": {
    "collapsed": false
   },
   "outputs": [
    {
     "ename": "SyntaxError",
     "evalue": "can't assign to lambda (<ipython-input-197-3875211a87f7>, line 1)",
     "output_type": "error",
     "traceback": [
      "\u001b[0;36m  File \u001b[0;32m\"<ipython-input-197-3875211a87f7>\"\u001b[0;36m, line \u001b[0;32m1\u001b[0m\n\u001b[0;31m    op = lambda x: x=\"!!\"\u001b[0m\n\u001b[0;31mSyntaxError\u001b[0m\u001b[0;31m:\u001b[0m can't assign to lambda\n"
     ]
    }
   ],
   "source": [
    "def addElement(level, idx, param):\n",
    "    if level == 'character':\n",
    "        characters.insert(idx, param)\n",
    "    elif level == \"word\":\n",
    "        words.insert(idx, param)\n",
    "    elif level == \"sentence\":\n",
    "        sentences.insert(idx, param)\n",
    "    elif level == \"paragraph\":\n",
    "        paragraphs.insert(idx, param)\n",
    "    \n",
    "def removeElement(level, idx):\n",
    "    if level == 'character':\n",
    "        characters.insert(idx, param)\n",
    "    elif level == \"word\":\n",
    "        words.insert(idx, param)\n",
    "    elif level == \"sentence\":\n",
    "        sentences.insert(idx, param)\n",
    "    elif level == \"paragraph\":\n",
    "        paragraphs.insert(idx, param)\n",
    "    "
   ]
  },
  {
   "cell_type": "code",
   "execution_count": 201,
   "metadata": {
    "collapsed": false
   },
   "outputs": [],
   "source": [
    "characters.pop?"
   ]
  },
  {
   "cell_type": "code",
   "execution_count": null,
   "metadata": {
    "collapsed": true
   },
   "outputs": [],
   "source": []
  }
 ],
 "metadata": {
  "kernelspec": {
   "display_name": "Python 2",
   "language": "python",
   "name": "python2"
  },
  "language_info": {
   "codemirror_mode": {
    "name": "ipython",
    "version": 2
   },
   "file_extension": ".py",
   "mimetype": "text/x-python",
   "name": "python",
   "nbconvert_exporter": "python",
   "pygments_lexer": "ipython2",
   "version": "2.7.11"
  }
 },
 "nbformat": 4,
 "nbformat_minor": 0
}
